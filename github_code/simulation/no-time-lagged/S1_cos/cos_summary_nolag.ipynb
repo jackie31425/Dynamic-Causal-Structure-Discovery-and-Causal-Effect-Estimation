{
 "cells": [
  {
   "cell_type": "code",
   "execution_count": 1,
   "id": "14283b70",
   "metadata": {
    "id": "14283b70",
    "scrolled": false
   },
   "outputs": [
    {
     "name": "stderr",
     "output_type": "stream",
     "text": [
      "D:\\Anaconda\\lib\\site-packages\\numpy\\_distributor_init.py:32: UserWarning: loaded more than 1 DLL from .libs:\n",
      "D:\\Anaconda\\lib\\site-packages\\numpy\\.libs\\libopenblas.TXA6YQSD3GCQQC22GEQ54J2UDCXDXHWN.gfortran-win_amd64.dll\n",
      "D:\\Anaconda\\lib\\site-packages\\numpy\\.libs\\libopenblas.WCDJNK7YVMPZQ2ME2ZZHJJRJ3JIKNDB7.gfortran-win_amd64.dll\n",
      "  stacklevel=1)\n",
      "\n",
      "Bad key \"text.kerning_factor\" on line 4 in\n",
      "D:\\Anaconda\\lib\\site-packages\\matplotlib\\mpl-data\\stylelib\\_classic_test_patch.mplstyle.\n",
      "You probably need to get an updated matplotlibrc file from\n",
      "https://github.com/matplotlib/matplotlib/blob/v3.1.3/matplotlibrc.template\n",
      "or from the matplotlib source distribution\n"
     ]
    }
   ],
   "source": [
    "from scipy import interpolate\n",
    "import matplotlib.pyplot as plt\n",
    "import numpy as np "
   ]
  },
  {
   "cell_type": "code",
   "execution_count": 2,
   "id": "7c5e29b6",
   "metadata": {},
   "outputs": [],
   "source": [
    "import numpy as np\n",
    "import torch\n",
    "from torch.utils.data.dataset import TensorDataset\n",
    "from torch.utils.data import DataLoader\n",
    "import torch.nn.functional as F\n",
    "import torch.nn as nn\n",
    "from torch.autograd import Variable\n",
    "import numpy as np\n",
    "import scipy.linalg as slin\n",
    "import scipy.sparse as sp\n",
    "import networkx as nx\n",
    "import pandas as pd\n",
    "from pandas import ExcelWriter\n",
    "from pandas import ExcelFile\n",
    "import glob\n",
    "import re\n",
    "import math\n",
    "from torch.optim.adam import Adam\n",
    "from utils import *\n",
    "from statistics import mean\n",
    "import random"
   ]
  },
  {
   "cell_type": "markdown",
   "id": "1d89455d",
   "metadata": {
    "id": "1d89455d"
   },
   "source": [
    "## create basis & function demo"
   ]
  },
  {
   "cell_type": "code",
   "execution_count": 3,
   "id": "7da3d05e",
   "metadata": {
    "id": "7da3d05e"
   },
   "outputs": [],
   "source": [
    "np.random.seed(1234567)"
   ]
  },
  {
   "cell_type": "code",
   "execution_count": 4,
   "id": "b115afe7",
   "metadata": {},
   "outputs": [],
   "source": [
    "def simulate_random_dag(d: int,\n",
    "                        degree: float,\n",
    "                        w_range: tuple = (1.0, 1.0)) -> nx.DiGraph:\n",
    "    \"\"\"Simulate random DAG with an expected degree by Erdos-Renyi model.\n",
    "        \n",
    "        Args:\n",
    "        d: number of nodes\n",
    "        degree: expected node degree, in + out\n",
    "        w_range: weight range +/- (low, high)\n",
    "        \n",
    "        Returns:\n",
    "        G: weighted DAG\n",
    "        \"\"\"\n",
    "    prob = float(degree) / (d - 1)\n",
    "    B = np.tril((np.random.rand(d, d) < prob).astype(float), k=-1)\n",
    "    \n",
    "    # random permutation\n",
    "    P = np.random.permutation(np.eye(d, d))  # permutes first axis only\n",
    "    B_perm = P.T.dot(B).dot(P)\n",
    "    U = np.random.uniform(low=w_range[0], high=w_range[1], size=[d, d])\n",
    "    U[np.random.rand(d, d) < 0.5] *= -1\n",
    "    W = (B_perm != 0).astype(float) * U\n",
    "    \n",
    "    # remove all in-edges (from precedent nodes) of the first node as A\n",
    "    W[:, 0] = 0\n",
    "    # remove all out-edges (from descendent nodes) of the last node as Y\n",
    "    W[d-1, :] = 0\n",
    "    # the remained nodes are the mediators M; and reset mediators if it has higher topological order than A or lower order than Y.\n",
    "    ordered_vertices = list(nx.topological_sort(nx.DiGraph(W)))\n",
    "    j = 1\n",
    "    while j < d - 1:\n",
    "        if  ordered_vertices.index(j) < ordered_vertices.index(0):\n",
    "            W[j, 1:(d - 1)] = np.zeros (d - 2)\n",
    "        if  ordered_vertices.index(j) > ordered_vertices.index(d - 1):\n",
    "            W[1:(d - 1), j] = np.zeros (d - 2)\n",
    "        j = j + 1\n",
    "    #print(\"True weighted adjacency matrix B:\\n\", W)\n",
    "    G = nx.DiGraph(W)\n",
    "    calculate_effect(W)\n",
    "    return W"
   ]
  },
  {
   "cell_type": "code",
   "execution_count": 5,
   "id": "a373aa83",
   "metadata": {},
   "outputs": [],
   "source": [
    "import math \n",
    "def cos(x):\n",
    "    return math.cos(x/4*math.pi)*0.8"
   ]
  },
  {
   "cell_type": "code",
   "execution_count": 6,
   "id": "2a01f414",
   "metadata": {},
   "outputs": [
    {
     "name": "stdout",
     "output_type": "stream",
     "text": [
      "t: [ 0.   0.   0.   2.5  5.   7.5 10.  10.  10. ]\n",
      "c: [ 0.80503855  0.63664798 -1.24180941  0.23603435  1.10322222 -0.02194516\n",
      "  0.          0.          0.        ]\n",
      "k: 2\n",
      "\n"
     ]
    },
    {
     "data": {
      "image/png": "[encoded data removed]",
      "text/plain": [
       "<Figure size 432x288 with 1 Axes>"
      ]
     },
     "metadata": {
      "needs_background": "light"
     },
     "output_type": "display_data"
    }
   ],
   "source": [
    "degree =2\n",
    "x = np.array(range(0, 11))\n",
    "y = np.array([cos(i) for i in x])\n",
    "z= [cos(i/10) for i in np.array(range(0, 110))]\n",
    "m = 3\n",
    "step = (x[-1] - x[0]) / (m + 1)\n",
    "knots = np.linspace(step, m * step, m)\n",
    "\n",
    "t, c, k = interpolate.splrep(x, y, k=degree, s=0, t=knots, per=0)\n",
    "\n",
    "print('''\\\n",
    "t: {}\n",
    "c: {}\n",
    "k: {}\n",
    "'''.format(t, c, k))\n",
    "N = 100\n",
    "xmin, xmax = x.min(), x.max()\n",
    "xx = np.linspace(xmin, xmax, N)\n",
    "spline = interpolate.BSpline(t, c, k, extrapolate=False)\n",
    "\n",
    "plt.plot(x, y, label='data points')\n",
    "plt.plot(xx, spline(xx), label='BSpline')\n",
    "plt.grid()\n",
    "plt.legend(loc='best')\n",
    "plt.show()"
   ]
  },
  {
   "cell_type": "code",
   "execution_count": 7,
   "id": "7ca93bbd",
   "metadata": {
    "id": "7ca93bbd"
   },
   "outputs": [],
   "source": [
    "from scipy.interpolate import BSpline\n",
    "k = 2\n",
    "t = t\n",
    "c1 = [1,0,0,0,0,0]\n",
    "c2 = [0,1,0,0,0,0]\n",
    "c3 = [0,0,1,0,0,0]\n",
    "c4 = [0,0,0,1,0,0]\n",
    "c5 = [0,0,0,0,1,0]\n",
    "c6 = [0,0,0,0,0,1]\n",
    "spl1 = BSpline(t, c1, k)\n",
    "spl2 = BSpline(t, c2, k)\n",
    "spl3 = BSpline(t, c3, k)\n",
    "spl4 = BSpline(t, c4, k)\n",
    "spl5 = BSpline(t, c5, k)\n",
    "spl6 = BSpline(t, c6, k)"
   ]
  },
  {
   "cell_type": "code",
   "execution_count": 8,
   "id": "8e0f471e",
   "metadata": {
    "colab": {
     "base_uri": "https://localhost:8080/",
     "height": 265
    },
    "id": "8e0f471e",
    "outputId": "502f249b-3175-455f-f521-052e4f099891"
   },
   "outputs": [
    {
     "data": {
      "image/png": "[encoded data removed]",
      "text/plain": [
       "<Figure size 432x288 with 1 Axes>"
      ]
     },
     "metadata": {
      "needs_background": "light"
     },
     "output_type": "display_data"
    }
   ],
   "source": [
    "import matplotlib.pyplot as plt\n",
    "fig, ax = plt.subplots()\n",
    "xx = np.linspace(0, 10, 50)\n",
    "ax.plot(xx, spl1(xx), lw=3, label='Bspline1')\n",
    "ax.plot(xx, spl2(xx), lw=4, alpha=0.7, label='Bspline2')\n",
    "ax.plot(xx, spl3(xx), lw=4, alpha=0.7, label='Bspline3')\n",
    "ax.plot(xx, spl4(xx), lw=4, alpha=0.7, label='Bspline4')\n",
    "ax.plot(xx, spl5(xx), lw=4, alpha=0.7, label='Bspline5')\n",
    "ax.plot(xx, spl6(xx), lw=4, alpha=0.7, label='Bspline6')\n",
    "ax.grid(True)\n",
    "ax.legend(loc='best')\n",
    "plt.show()"
   ]
  },
  {
   "cell_type": "markdown",
   "id": "e1fcf3e1",
   "metadata": {
    "id": "e1fcf3e1"
   },
   "source": [
    "## create data"
   ]
  },
  {
   "cell_type": "code",
   "execution_count": 9,
   "id": "V6gVN_VTxnG4",
   "metadata": {
    "id": "V6gVN_VTxnG4"
   },
   "outputs": [],
   "source": [
    "def data_create(seed,time_stamp):\n",
    "  np.random.seed(seed)\n",
    "  x = np.array(range(0, time_stamp))\n",
    "  #y = np.array([cos(i)+np.random.normal(0, 0.1, 1) for i in x]) #generate coefficient\n",
    "  y = np.array([cos(i)for i in x]) #generate coefficient\n",
    "  base_DAG=np.zeros((5, 5))\n",
    "  base_DAG[0,4]=y[0]##edited to be coeffcient with error\n",
    "  base_graph=nx.from_numpy_matrix(base_DAG,create_using=nx.DiGraph)\n",
    "  X_all = simulate_lsem(base_graph,30, 'Binary', 1,noise_scale=0.1)\n",
    "  for i in range(1,time_stamp):\n",
    "      base_DAG[0,4]=y[i]\n",
    "      base_graph=nx.from_numpy_matrix(base_DAG,create_using=nx.DiGraph)\n",
    "      X = simulate_lsem(base_graph,30, 'Binary', 1,noise_scale=0.1)\n",
    "      X_all=np.append(X_all,X,axis=0)\n",
    "  return X_all"
   ]
  },
  {
   "cell_type": "code",
   "execution_count": 10,
   "id": "f1766d8b",
   "metadata": {
    "id": "f1766d8b"
   },
   "outputs": [],
   "source": [
    "from __future__ import division\n",
    "from __future__ import print_function\n",
    "\n",
    "import time\n",
    "import argparse\n",
    "import pickle\n",
    "import os\n",
    "import random\n",
    "\n",
    "import torch.optim as optim\n",
    "from torch.optim import lr_scheduler\n",
    "import math\n",
    "from utils import *\n",
    "\n",
    "from multiprocessing import Pool\n",
    "import multiprocessing\n",
    "n_cores = multiprocessing.cpu_count()\n",
    "from numpy.random import randn\n",
    "from random import seed as rseed\n",
    "from numpy.random import seed as npseed\n",
    "import time"
   ]
  },
  {
   "cell_type": "markdown",
   "id": "42b6be67",
   "metadata": {
    "id": "42b6be67"
   },
   "source": [
    "# new method"
   ]
  },
  {
   "cell_type": "code",
   "execution_count": 11,
   "id": "42046e3c",
   "metadata": {
    "id": "42046e3c"
   },
   "outputs": [],
   "source": [
    "# ----------- Configurations:\n",
    "time_stamp=10\n",
    "n_timestamp=time_stamp\n",
    "sample__time=30##sample per timepoint\n",
    "n = time_stamp*sample__time # The number of samples of data.\n",
    "n_var = 5 # The number of variables in data.\n",
    "x_dims = 1 # The number of input dimensions: default 1.\n",
    "z_dims = n_var # The number of latent variable dimensions: default the same as variable size.\n",
    "epochs = 200 # Number of epochs to train.\n"
   ]
  },
  {
   "cell_type": "code",
   "execution_count": 12,
   "id": "7871866b",
   "metadata": {
    "colab": {
     "base_uri": "https://localhost:8080/"
    },
    "id": "7871866b",
    "outputId": "95d27f29-9ad4-41bb-a565-112fc3b458d9"
   },
   "outputs": [
    {
     "data": {
      "text/plain": [
       "10"
      ]
     },
     "execution_count": 12,
     "metadata": {},
     "output_type": "execute_result"
    }
   ],
   "source": [
    "n_timestamp"
   ]
  },
  {
   "cell_type": "code",
   "execution_count": 13,
   "id": "2b4a5750",
   "metadata": {
    "colab": {
     "base_uri": "https://localhost:8080/"
    },
    "id": "2b4a5750",
    "outputId": "c445bb2c-a8f6-47b5-b509-6845875ddd96"
   },
   "outputs": [
    {
     "data": {
      "text/plain": [
       "30"
      ]
     },
     "execution_count": 13,
     "metadata": {},
     "output_type": "execute_result"
    }
   ],
   "source": [
    "sample__time"
   ]
  },
  {
   "cell_type": "code",
   "execution_count": 14,
   "id": "93a046a5",
   "metadata": {
    "id": "93a046a5"
   },
   "outputs": [],
   "source": [
    "def create_D(X,spline_list):\n",
    "    D_all=np.zeros((sample__time*time_stamp, n_var*len(spline_list),1))\n",
    "    for j in range(len(spline_list)):\n",
    "        D_column=np.zeros((sample__time*time_stamp, n_var,1))#for each spline\n",
    "        for i in range(0,n_timestamp):\n",
    "            D_column[(sample__time*i):(sample__time*(i+1)),:,:]=X[(sample__time*i):(sample__time*(i+1)),:]*spline_list[j](i)#X_i *f(i), stack horizontally\n",
    "        ##horizontally append\n",
    "        D_all[:,n_var*j:n_var*(j+1),:]=D_column\n",
    "        #print((n_features*j,n_features*(j+1)))\n",
    "    return(D_all)"
   ]
  },
  {
   "cell_type": "code",
   "execution_count": 15,
   "id": "5880a65f",
   "metadata": {
    "id": "5880a65f"
   },
   "outputs": [],
   "source": [
    "#spline_list=[spl_const]\n",
    "spline_list=[spl1,spl2,spl3,spl4,spl5,spl6]"
   ]
  },
  {
   "cell_type": "code",
   "execution_count": 16,
   "id": "9bdb6397",
   "metadata": {
    "id": "9bdb6397"
   },
   "outputs": [],
   "source": [
    "def spl_consraint(spline_list,t,p):\n",
    "    k=len(spline_list)\n",
    "    output=torch.zeros(((p*k), p))\n",
    "    identity=torch.zeros((p, p*k))\n",
    "    for i in range(k):\n",
    "        output[(i*p):(i*p+p),:]=torch.ones((p,p))*spline_list[i](t).item() #gamma times basis\n",
    "        identity[:,(i*p):(i*p+p)]=torch.eye(p) #stacked identity matrix\n",
    "    #final=torch.matmul(identity,output)\n",
    "    return output, identity"
   ]
  },
  {
   "cell_type": "code",
   "execution_count": 17,
   "id": "985dc159",
   "metadata": {
    "id": "985dc159"
   },
   "outputs": [],
   "source": [
    "# ----------- Configurations:\n",
    "n = 30*time_stamp # The number of samples of data.\n",
    "d = 36 # The number of variables in data after spline.  (p+1*k)\n",
    "x_dims = 1 # The number of input dimensions: default 1.\n",
    "z_dims = d # The number of latent variable dimensions: default the same as variable size.\n",
    "epochs = 200 # Number of epochs to train.\n",
    "batch_size = 10 # Number of samples per batch. note: should be divisible by sample size, otherwise throw an error.\n",
    "k_max_iter = int(1e2) # The max iteration number for searching parameters.\n",
    "original_lr = 3e-3  # Initial learning rate.\n",
    "encoder_hidden = d^2 # Number of hidden units, adaptive to dimension of nodes (d^2).\n",
    "decoder_hidden = d^2 # Number of hidden units, adaptive to dimension of nodes (d^2).\n",
    "temp = 0.5 # Temperature for Gumbel softmax.\n",
    "factor = True # Factor graph model.\n",
    "encoder_dropout = 0.0 # Dropout rate (1 - keep probability).\n",
    "decoder_dropout = 0.0 # Dropout rate (1 - keep probability).\n",
    "tau_B = 0. # Coefficient for L-1 norm of matrix B.\n",
    "lambda1 = 0. # Coefficient for DAG constraint h1(B).\n",
    "lambda2 = 0. # Coefficient for identification constraint h2(B).\n",
    "c_B = 1 # Coefficient for absolute value h1(B).\n",
    "d_B = 1 # Coefficient for absolute value h2(B).\n",
    "e_B = 1 # Coefficient for absolute value h3(B)\n",
    "h1_tol = 1e-8 # The tolerance of error of h1(B) to zero.\n",
    "h2_tol = 1e-8 # The tolerance of error of h2(B) to zero.\n",
    "h3_tol = 1e-8 # The tolerance of error of h2(B) to zero.\n",
    "lr_decay = 200 # After how many epochs to decay LR by a factor of gamma. \n",
    "gamma = 1.0 # LR decay factor. "
   ]
  },
  {
   "cell_type": "code",
   "execution_count": 18,
   "id": "4c588ed1",
   "metadata": {
    "id": "4c588ed1"
   },
   "outputs": [],
   "source": [
    "def fun_h2_B_new(B):\n",
    "    '''compute constraint h2(B) value'''\n",
    "    d = B.shape[0]\n",
    "    gamma=B[p:,:p]\n",
    "    h3_B = sum(sum(abs(B[:p, :])))+sum(abs(gamma[:, 0]))+sum(sum(abs(B[p:, p:]))) # uppper 0 and 0 column and every p-1,2p-1 row\n",
    "    for i in range(k):\n",
    "        h3_B=h3_B+sum(abs(gamma[((i+1)*p-1), 1:]))\n",
    "    return h3_B"
   ]
  },
  {
   "cell_type": "code",
   "execution_count": 19,
   "id": "705f6778",
   "metadata": {
    "id": "705f6778"
   },
   "outputs": [],
   "source": [
    "def fun_h1_B(B):\n",
    "    '''compute constraint h1(B) value'''\n",
    "    d = B.shape[0]\n",
    "    expm_B = matrix_poly(B * B, d)\n",
    "    h1_B = torch.trace(expm_B) - d\n",
    "    return h1_B.float()"
   ]
  },
  {
   "cell_type": "code",
   "execution_count": 20,
   "id": "feedc251",
   "metadata": {
    "id": "feedc251"
   },
   "outputs": [],
   "source": [
    "def train_new(epoch, lambda1, c_B, lambda2, d_B, optimizer, old_lr,p,k):\n",
    "        \n",
    "        nll_train = []\n",
    "        kl_train = []\n",
    "        mse_train = []\n",
    "        encoder.train()\n",
    "        decoder.train()\n",
    "        scheduler.step()\n",
    "\n",
    "        # Update optimizer\n",
    "        optimizer, lr = update_optimizer(optimizer, old_lr, c_B, d_B)\n",
    "\n",
    "        for batch_idx, (data, relations) in enumerate(train_loader):\n",
    "\n",
    "            data, relations = Variable(data).double(), Variable(relations).double()\n",
    "            relations = relations.unsqueeze(2) # Reshape data\n",
    "\n",
    "            optimizer.zero_grad()\n",
    "\n",
    "            enc_x, logits, origin_B, adj_A_tilt_encoder, z_gap, z_positive, myA, Wa = encoder(data, rel_rec, rel_send) \n",
    "            edges = logits # Logits is of size: [num_sims, z_dims]\n",
    "\n",
    "            dec_x, output, adj_A_tilt_decoder = decoder(data, edges, d * x_dims, rel_rec, rel_send, origin_B, adj_A_tilt_encoder, Wa)\n",
    "\n",
    "            if torch.sum(output != output):\n",
    "                print('nan error\\n')\n",
    "\n",
    "            target = data\n",
    "            preds = output\n",
    "            variance = 0.\n",
    "            \n",
    "            # Compute constraint functions h1(B) and h2(B)\n",
    "            #h1_B = fun_h1_B(origin_B[p:,p:]) #acyclity on G\n",
    "            h1_B =0\n",
    "            for i in range(n_timestamp):\n",
    "                #aa=torch.matmul(spl_consraint(spline_list,i,p).type(torch.FloatTensor),origin_B[p:,:p].type(torch.FloatTensor))#acyclity on Gamma\n",
    "                #print(fun_h1_B(aa))\n",
    "                output, identity=spl_consraint(spline_list,i,p)\n",
    "                h1_B=h1_B+fun_h1_B(torch.matmul(identity.type(torch.FloatTensor),(output.type(torch.FloatTensor)*origin_B[p:,:p].type(torch.FloatTensor))))#acyclity on Gamma\n",
    "            h2_B = fun_h2_B_new(origin_B) ##handle the zero on gamma and top\n",
    "            # Reconstruction accuracy loss:\n",
    "            loss_nll = nll_gaussian(preds, target, variance)\n",
    "            # KL loss:\n",
    "            loss_kl = kl_gaussian(logits)\n",
    "            # ELBO loss:\n",
    "            loss = loss_kl + loss_nll\n",
    "            # Loss function:\n",
    "            loss += lambda1 * h1_B + 0.5 * c_B * h1_B * h1_B + lambda2 * h2_B + 0.5 * d_B * h2_B * h2_B + 100. * torch.trace(origin_B * origin_B)\n",
    "\n",
    "            loss.backward()\n",
    "            loss = optimizer.step()\n",
    "\n",
    "            myA.data = stau(myA.data, tau_B * lr)\n",
    "\n",
    "            if torch.sum(origin_B != origin_B):\n",
    "                print('nan error\\n')\n",
    "\n",
    "            mse_train.append(F.mse_loss(preds, target).item())\n",
    "            nll_train.append(loss_nll.item())\n",
    "            kl_train.append(loss_kl.item())\n",
    "\n",
    "        return np.mean(np.mean(kl_train) + np.mean(nll_train)), np.mean(nll_train), np.mean(mse_train), origin_B, optimizer, lr\n"
   ]
  },
  {
   "cell_type": "code",
   "execution_count": 33,
   "id": "af937222",
   "metadata": {
    "colab": {
     "base_uri": "https://localhost:8080/"
    },
    "id": "af937222",
    "outputId": "e80610dd-84e9-4b89-dce3-cc71ee027097"
   },
   "outputs": [
    {
     "name": "stdout",
     "output_type": "stream",
     "text": [
      "(300, 35, 1)\n"
     ]
    },
    {
     "name": "stderr",
     "output_type": "stream",
     "text": [
      "D:\\Anaconda\\lib\\site-packages\\torch\\optim\\lr_scheduler.py:100: UserWarning: Detected call of `lr_scheduler.step()` before `optimizer.step()`. In PyTorch 1.1.0 and later, you should call them in the opposite order: `optimizer.step()` before `lr_scheduler.step()`.  Failure to do this will result in PyTorch skipping the first value of the learning rate schedule.See more details at https://pytorch.org/docs/stable/optim.html#how-to-adjust-learning-rate\n",
      "  \"https://pytorch.org/docs/stable/optim.html#how-to-adjust-learning-rate\", UserWarning)\n"
     ]
    },
    {
     "name": "stdout",
     "output_type": "stream",
     "text": [
      "Best ELBO Loss : 0.00029798236795871907\n",
      "Best NLL Loss : 4.3973154363237767e-07\n",
      "Best MSE Loss : 2.5127516778993017e-08\n",
      "3431.5733189582825\n",
      "0\n",
      "(300, 35, 1)\n",
      "Best ELBO Loss : 0.00023608309106268698\n",
      "Best NLL Loss : 3.3881107696461424e-06\n",
      "Best MSE Loss : 1.936063296940653e-07\n",
      "3426.990545272827\n",
      "1\n",
      "(300, 35, 1)\n",
      "Best ELBO Loss : 0.0001853131010122095\n",
      "Best NLL Loss : 2.0354061104329007e-06\n",
      "Best MSE Loss : 1.1630892059616574e-07\n",
      "3123.9774458408356\n",
      "2\n",
      "(300, 35, 1)\n",
      "Best ELBO Loss : 0.0002172353836506409\n",
      "Best NLL Loss : 6.021396897906629e-08\n",
      "Best MSE Loss : 3.4407982273752146e-09\n",
      "3431.4879853725433\n",
      "3\n",
      "(300, 35, 1)\n",
      "Best ELBO Loss : 0.00021486777634085682\n",
      "Best NLL Loss : 1.3241536250420147e-06\n",
      "Best MSE Loss : 7.566592143097226e-08\n",
      "3111.454917907715\n",
      "4\n",
      "(300, 35, 1)\n",
      "Best ELBO Loss : 0.00020478986186205601\n",
      "Best NLL Loss : 4.330460238879299e-07\n",
      "Best MSE Loss : 2.474548707931028e-08\n",
      "3141.745049715042\n",
      "5\n",
      "(300, 35, 1)\n",
      "Best ELBO Loss : 0.00034064333851925306\n",
      "Best NLL Loss : 1.0833305282924189e-05\n",
      "Best MSE Loss : 6.19046016167097e-07\n",
      "3135.195908308029\n",
      "6\n",
      "(300, 35, 1)\n",
      "Best ELBO Loss : 0.00025902511784476305\n",
      "Best NLL Loss : 2.0825860373722828e-07\n",
      "Best MSE Loss : 1.1900491642127334e-08\n",
      "3289.759375810623\n",
      "7\n",
      "(300, 35, 1)\n",
      "Best ELBO Loss : 0.0001815392549879834\n",
      "Best NLL Loss : 6.736574008548786e-08\n",
      "Best MSE Loss : 3.849470862027878e-09\n",
      "3277.5319650173187\n",
      "8\n",
      "(300, 35, 1)\n",
      "Best ELBO Loss : 0.00019105601062925873\n",
      "Best NLL Loss : 3.2526439849137954e-07\n",
      "Best MSE Loss : 1.8586537056650266e-08\n",
      "3573.6011838912964\n",
      "9\n",
      "(300, 35, 1)\n",
      "Best ELBO Loss : 0.0002107052820754527\n",
      "Best NLL Loss : 2.176170423828138e-06\n",
      "Best MSE Loss : 1.2435259564732215e-07\n",
      "3538.2231063842773\n",
      "10\n",
      "(300, 35, 1)\n",
      "Best ELBO Loss : 0.00023233089714476982\n",
      "Best NLL Loss : 6.646147128491491e-07\n",
      "Best MSE Loss : 3.797798359137994e-08\n",
      "3270.6801147460938\n",
      "11\n",
      "(300, 35, 1)\n",
      "Best ELBO Loss : 0.0003157908070019145\n",
      "Best NLL Loss : 3.847288930823408e-06\n",
      "Best MSE Loss : 2.1984508176133767e-07\n",
      "3542.2452204227448\n",
      "12\n",
      "(300, 35, 1)\n",
      "Best ELBO Loss : 0.00023355312550715318\n",
      "Best NLL Loss : 2.8860461665061076e-06\n",
      "Best MSE Loss : 1.6491692380034905e-07\n",
      "3257.51971411705\n",
      "13\n",
      "(300, 35, 1)\n",
      "Best ELBO Loss : 0.00022772014414134008\n",
      "Best NLL Loss : 8.102583064518752e-07\n",
      "Best MSE Loss : 4.630047465439288e-08\n",
      "3256.0182983875275\n",
      "14\n",
      "(300, 35, 1)\n",
      "Best ELBO Loss : 0.00025453727794537764\n",
      "Best NLL Loss : 2.5792621817484027e-06\n",
      "Best MSE Loss : 1.473864103856231e-07\n",
      "3251.0895462036133\n",
      "15\n",
      "(300, 35, 1)\n",
      "Best ELBO Loss : 0.00030620320301358723\n",
      "Best NLL Loss : 2.6561433236420916e-06\n",
      "Best MSE Loss : 1.5177961849383372e-07\n",
      "3253.692937850952\n",
      "16\n",
      "(300, 35, 1)\n",
      "Best ELBO Loss : 0.00025769922507642924\n",
      "Best NLL Loss : 9.426768633073973e-07\n",
      "Best MSE Loss : 5.386724933185126e-08\n",
      "3560.2528100013733\n",
      "17\n",
      "(300, 35, 1)\n",
      "Best ELBO Loss : 0.0002037486383030904\n",
      "Best NLL Loss : 3.1252452949675013e-06\n",
      "Best MSE Loss : 1.7858544542671435e-07\n",
      "3568.4472272396088\n",
      "18\n",
      "(300, 35, 1)\n",
      "Best ELBO Loss : 0.0002967497938833513\n",
      "Best NLL Loss : 6.875362587903662e-06\n",
      "Best MSE Loss : 3.928778621659237e-07\n",
      "3314.5999524593353\n",
      "19\n",
      "(300, 35, 1)\n",
      "Best ELBO Loss : 0.00035393323431113686\n",
      "Best NLL Loss : 2.6182771396947743e-06\n",
      "Best MSE Loss : 1.4961583655398715e-07\n",
      "3259.280561685562\n",
      "20\n",
      "(300, 35, 1)\n",
      "Best ELBO Loss : 0.00025014747810572964\n",
      "Best NLL Loss : 1.2109609375538335e-06\n",
      "Best MSE Loss : 6.919776786021906e-08\n",
      "3269.2610533237457\n",
      "21\n",
      "(300, 35, 1)\n",
      "Best ELBO Loss : 0.0002172281079921728\n",
      "Best NLL Loss : 7.505621548986756e-07\n",
      "Best MSE Loss : 4.2889265994210033e-08\n",
      "3253.4727947711945\n",
      "22\n",
      "(300, 35, 1)\n",
      "Best ELBO Loss : 0.0002346988484027964\n",
      "Best NLL Loss : 1.464557711277486e-06\n",
      "Best MSE Loss : 8.368901207299922e-08\n",
      "3279.564850091934\n",
      "23\n",
      "(300, 35, 1)\n",
      "Best ELBO Loss : 0.0001818531950912332\n",
      "Best NLL Loss : 2.481457658795578e-07\n",
      "Best MSE Loss : 1.4179758050260444e-08\n",
      "3135.1029703617096\n",
      "24\n",
      "(300, 35, 1)\n",
      "Best ELBO Loss : 0.00030231468642603627\n",
      "Best NLL Loss : 2.1643369885395143e-06\n",
      "Best MSE Loss : 1.236763993451151e-07\n",
      "3143.9606351852417\n",
      "25\n",
      "(300, 35, 1)\n",
      "Best ELBO Loss : 0.00019903657407093392\n",
      "Best NLL Loss : 3.9656680605907925e-06\n",
      "Best MSE Loss : 2.2660960346233107e-07\n",
      "3412.469216823578\n",
      "26\n",
      "(300, 35, 1)\n",
      "Best ELBO Loss : 0.00027500548336914195\n",
      "Best NLL Loss : 1.561717442916339e-06\n",
      "Best MSE Loss : 8.92409967380765e-08\n",
      "3124.26966881752\n",
      "27\n",
      "(300, 35, 1)\n",
      "Best ELBO Loss : 0.0003024922181682424\n",
      "Best NLL Loss : 8.944276248823348e-06\n",
      "Best MSE Loss : 5.111014999327627e-07\n",
      "3697.352156639099\n",
      "28\n",
      "(300, 35, 1)\n",
      "Best ELBO Loss : 0.00020885517858056023\n",
      "Best NLL Loss : 1.7414353179846752e-06\n",
      "Best MSE Loss : 9.951058959912427e-08\n",
      "3135.3309104442596\n",
      "29\n"
     ]
    }
   ],
   "source": [
    "n_var=5\n",
    "n_times=30 #no. of replicates\n",
    "time_stamp=10 #no. of timestamp\n",
    "np.random.seed(1234567) #Random seed\n",
    "seed_list=np.random.randint(1, 1000000, size=n_times)\n",
    "average_coef_list_new=np.zeros((n_times,time_stamp,n_var,n_var))\n",
    "lambda_list=np.zeros((n_times,30,n_var))\n",
    "FDR_total_new=[]\n",
    "TPR_total_new=[]\n",
    "SHD_total_new=[]\n",
    "time_list_new=[]\n",
    "for replicate in range(n_times):\n",
    "  seed=seed_list[replicate]\n",
    "  X_all=data_create(seed,time_stamp) #create data\n",
    "  D=create_D(X_all,spline_list)\n",
    "  data_all=np.append(X_all,D, axis=1)\n",
    "  print(np.shape(data_all))\n",
    "  average_list=np.zeros((time_stamp,n_var, n_var))\n",
    "  \n",
    "  ####estimate at each time_stamp####\n",
    "  timestart_new=time.time()\n",
    "    # ----------- Configurations:\n",
    "  # ----------- Configurations:\n",
    "  n = 30*time_stamp # The number of samples of data.\n",
    "  d = 36 # The number of variables in data after basis.\n",
    "  x_dims = 1 # The number of input dimensions: default 1.\n",
    "  z_dims = d # The number of latent variable dimensions: default the same as variable size.\n",
    "  epochs = 200 # Number of epochs to train.\n",
    "  batch_size = 10 # Number of samples per batch. note: should be divisible by sample size, otherwise throw an error.\n",
    "  k_max_iter = int(1e2) # The max iteration number for searching parameters.\n",
    "  original_lr = 3e-3  # Initial learning rate.\n",
    "  encoder_hidden = d^2 # Number of hidden units, adaptive to dimension of nodes (d^2).\n",
    "  decoder_hidden = d^2 # Number of hidden units, adaptive to dimension of nodes (d^2).\n",
    "  temp = 0.5 # Temperature for Gumbel softmax.\n",
    "  factor = True # Factor graph model.\n",
    "  encoder_dropout = 0.0 # Dropout rate (1 - keep probability).\n",
    "  decoder_dropout = 0.0 # Dropout rate (1 - keep probability).\n",
    "  tau_B = 0. # Coefficient for L-1 norm of matrix B.\n",
    "  lambda1 = 0. # Coefficient for DAG constraint h1(B).\n",
    "  lambda2 = 0. # Coefficient for identification constraint h2(B).\n",
    "  c_B = 1 # Coefficient for absolute value h1(B).\n",
    "  d_B = 1 # Coefficient for absolute value h2(B).\n",
    "  e_B = 1 # Coefficient for absolute value h3(B)\n",
    "  h1_tol = 1e-8 # The tolerance of error of h1(B) to zero.\n",
    "  h2_tol = 1e-8 # The tolerance of error of h2(B) to zero.\n",
    "  h3_tol = 1e-8 # The tolerance of error of h2(B) to zero.\n",
    "  lr_decay = 200 # After how many epochs to decay LR by a factor of gamma. \n",
    "  gamma = 1.0 # LR decay factor.  \n",
    "    ######################\n",
    "  p=5\n",
    "  k=6 #no.of basis\n",
    "  np.random.seed(seed)\n",
    "  random.seed(seed)\n",
    "  torch.manual_seed(seed)\n",
    "  feat_train = torch.FloatTensor(data_all)\n",
    "  feat_valid = torch.FloatTensor(data_all)\n",
    "  feat_test = torch.FloatTensor(data_all)\n",
    "\n",
    "  # Reconstruct itself\n",
    "  train_data = TensorDataset(feat_train, feat_train)\n",
    "  valid_data = TensorDataset(feat_valid, feat_train)\n",
    "  test_data = TensorDataset(feat_test, feat_train)\n",
    "\n",
    "  train_loader = DataLoader(train_data, batch_size = batch_size)\n",
    "  valid_loader = DataLoader(valid_data, batch_size = batch_size)\n",
    "  test_loader = DataLoader(test_data, batch_size = batch_size)\n",
    "\n",
    "  # ----------- Load modules:\n",
    "  d1=p+p*k\n",
    "  off_diag = np.ones([d1, d1]) - np.eye(d1) # Generate off-diagonal interaction graph\n",
    "  rel_rec = np.array(encode_onehot(np.where(off_diag)[1]), dtype = np.float64)\n",
    "  rel_send = np.array(encode_onehot(np.where(off_diag)[0]), dtype = np.float64)\n",
    "  rel_rec = torch.DoubleTensor(rel_rec)\n",
    "  rel_send = torch.DoubleTensor(rel_send)\n",
    "  adj_A = np.zeros((d1, d1)) # Add adjacency matrix\n",
    "\n",
    "  encoder = MLPEncoder(d1 * x_dims, x_dims, encoder_hidden,\n",
    "                          int(z_dims), adj_A,\n",
    "                          batch_size = batch_size,\n",
    "                          do_prob = encoder_dropout, factor = factor).double()\n",
    "  decoder = MLPDecoder(d1 * x_dims,\n",
    "                          z_dims, x_dims, encoder,\n",
    "                          data_variable_size = d1,\n",
    "                          batch_size = batch_size,\n",
    "                          n_hid=decoder_hidden,\n",
    "                          do_prob=decoder_dropout).double()\n",
    "\n",
    "  # ----------- Set up optimizer:\n",
    "  optimizer = optim.Adam(list(encoder.parameters()) + list(decoder.parameters()), lr = original_lr)\n",
    "  scheduler = lr_scheduler.StepLR(optimizer, step_size = lr_decay,\n",
    "                                  gamma = gamma)\n",
    "\n",
    "  rel_rec = Variable(rel_rec)\n",
    "  rel_send = Variable(rel_send)\n",
    "\n",
    "  # ----------- Main:\n",
    "  best_ELBO_loss = np.inf\n",
    "  best_NLL_loss = np.inf\n",
    "  best_MSE_loss = np.inf\n",
    "  h1_B_new = 1 #torch.tensor(1.)\n",
    "  h2_B_new = 1\n",
    "  h1_B_old = np.inf\n",
    "  h2_B_old = np.inf\n",
    "  lr = original_lr\n",
    "\n",
    "  try:\n",
    "      for step_k in range(k_max_iter):\n",
    "          while c_B * d_B < 1e+20:\n",
    "              for epoch in range(epochs):\n",
    "                  old_lr = lr \n",
    "                  ELBO_loss, NLL_loss, MSE_loss, origin_B, optimizer, lr = train_new(epoch, lambda1, c_B, lambda2, d_B, optimizer, old_lr,p=p,k=k)\n",
    "\n",
    "                  if ELBO_loss < best_ELBO_loss:\n",
    "                      best_ELBO_loss = ELBO_loss\n",
    "\n",
    "                  if NLL_loss < best_NLL_loss:\n",
    "                      best_NLL_loss = NLL_loss\n",
    "\n",
    "                  if MSE_loss < best_MSE_loss:\n",
    "                      best_MSE_loss = MSE_loss\n",
    "\n",
    "              if ELBO_loss > 2 * best_ELBO_loss:\n",
    "                  break\n",
    "\n",
    "              # Update parameters\n",
    "              B_new = origin_B.data.clone()\n",
    "              #h1_B = fun_h1_B(B_new[p:,p:]) #acyclity on G\n",
    "              h1_B=0 \n",
    "              for i in range(n_timestamp):\n",
    "                  #aa=h1_B+fun_h1_B(torch.matmul(spl_consraint(spline_list,i,p),B_new[p:,:p]))#acyclity on Gamma\n",
    "                  #print(aa)\n",
    "                  output, identity=spl_consraint(spline_list,i,p)\n",
    "                  h1_B=h1_B+fun_h1_B(torch.matmul(identity.type(torch.FloatTensor),(output.type(torch.FloatTensor)*B_new[p:,:p].type(torch.FloatTensor))))\n",
    "                  #h1_B=h1_B+fun_h1_B(torch.matmul(spl_consraint(spline_list,i,p).type(torch.FloatTensor),B_new[p:,:p].type(torch.FloatTensor)))#acyclity on Gamma\n",
    "              h2_B = fun_h2_B_new(B_new) ##handle the zero on gamma and top\n",
    "              #B_trans_new=torch.transpose(B_new, 0, 1)\n",
    "              #h1_B = fun_h1_B(B_trans_new[p:,p:]) #acyclity on G\n",
    "              #h1_B = fun_h1_B(B_new[p:,:p]) #edited acyclity on G\n",
    "              #h2_B = fun_h3_B(B_new) ##handle the zero\n",
    "\n",
    "              if h1_B_new > 0.25 * h1_B_old and h2_B_new > 0.25 * h2_B_old:\n",
    "                  c_B *= 10\n",
    "                  d_B *= 10\n",
    "              elif h1_B_new > 0.25 * h1_B_old and h2_B_new < 0.25 * h2_B_old:\n",
    "                  c_B *= 10\n",
    "              elif h1_B_new < 0.25 * h1_B_old and h2_B_new > 0.25 * h2_B_old:\n",
    "                  d_B *= 10\n",
    "              else:\n",
    "                  break\n",
    "\n",
    "          # Update parameters    \n",
    "          h1_B_old = h1_B_new\n",
    "          h2_B_old = h2_B_new\n",
    "          lambda1 += c_B * h1_B_new\n",
    "          lambda2 += d_B * h2_B_new\n",
    "\n",
    "          if h1_B_new <= h1_tol and h2_B_new <= h2_tol:\n",
    "              break\n",
    "\n",
    "  except KeyboardInterrupt:\n",
    "      print('KeyboardInterrupt')\n",
    "\n",
    "  predB = np.matrix(origin_B.data.clone().numpy())\n",
    "  print('Best ELBO Loss :', best_ELBO_loss)\n",
    "  print('Best NLL Loss :', best_NLL_loss)\n",
    "  print('Best MSE Loss :', best_MSE_loss)\n",
    "  #calculate_effect(predB)\n",
    "  pred_gamma=predB[p:,:(p)]\n",
    "  lambda_list[replicate,::]=pred_gamma\n",
    "  np.save(\"cos_10_30_gamma\",lambda_list)\n",
    "  def matrix_gen(t):\n",
    "    output,identity=spl_consraint(spline_list,t,p)\n",
    "    return torch.matmul(identity.type(torch.FloatTensor),torch.from_numpy((np.multiply(output.numpy(),pred_gamma))).type(torch.FloatTensor)).T\n",
    "  #estimated_coefficient=[matrix_gen(i)[4,0].item() for i in range(time_stamp)]\n",
    "  #average_coef_list_new[replicate,:]=estimated_coefficient\n",
    "\n",
    "  ## FDR, TPR, SHD for  new method\n",
    "  FDR_list_piece_new=[]\n",
    "  TPR_list_piece_new=[]\n",
    "  SHD_list_piece_new=[]\n",
    "  base_DAG=np.zeros((5, 5))\n",
    "  for i in range(time_stamp):\n",
    "      base_DAG[0,4]=cos(i)\n",
    "      base_DAG[abs(base_DAG)<0.3]=0\n",
    "      base_graph=nx.from_numpy_matrix(base_DAG,create_using=nx.DiGraph)\n",
    "      average_coef_list_new[replicate,i,:,:]=matrix_gen(i).numpy()\n",
    "      a=matrix_gen(i).numpy()\n",
    "      a[abs(a)<0.3] = 0\n",
    "      base_estimate=nx.from_numpy_matrix(a.T,create_using=nx.DiGraph)\n",
    "    \n",
    "      FDR,TPR,SHD=count_accuracy(base_graph,base_estimate)\n",
    "      FDR_list_piece_new.append(FDR)\n",
    "      TPR_list_piece_new.append(TPR)\n",
    "      SHD_list_piece_new.append(SHD)\n",
    "  np.save(\"cos_10_30\",average_coef_list_new)\n",
    "  FDR_total_new.append(mean(FDR_list_piece_new))\n",
    "  TPR_total_new.append(mean(TPR_list_piece_new))\n",
    "  SHD_total_new.append(mean(SHD_list_piece_new))\n",
    "  timeend_new=time.time()\n",
    "  time_list_new.append(timeend_new-timestart_new)\n",
    "  print(timeend_new-timestart_new)\n",
    "  ###write csv\n",
    "  df_new = pd.DataFrame(columns=('FDR', 'TPR',\"SHD\",\"time\"))\n",
    "  df_new[\"FDR\"]=FDR_total_new\n",
    "  df_new[\"TPR\"]=TPR_total_new\n",
    "  df_new[\"SHD\"]=SHD_total_new\n",
    "  df_new[\"time\"]=time_list_new\n",
    "  #df_new.to_csv(\"cos_new_5.csv\")\n",
    "  print(replicate)\n"
   ]
  },
  {
   "cell_type": "code",
   "execution_count": 68,
   "id": "9df3482f",
   "metadata": {},
   "outputs": [],
   "source": [
    "result_new=np.load(\"result/cos_10_30.npy\") #0 axis is the number of replicates\n",
    "result_ANOCA=np.load(\"result/cos_10_30_ANOCA.npy\")\n",
    "result_NOTEARS=np.load(\"result/cos_10_30_NOTEARS.npy\")\n",
    "result_dynotears=np.load(\"result/dynotears_cos_w_noA.npy\")\n",
    "result_DAGGNN=np.load(\"result/cos_10_30_DAGGNN.npy\")"
   ]
  },
  {
   "cell_type": "code",
   "execution_count": 69,
   "id": "0b5d95a4",
   "metadata": {},
   "outputs": [],
   "source": [
    "n_times=30\n",
    "p=5\n",
    "time_stamp=10\n",
    "gamma=np.load(\"result/cos_10_30_gamma.npy\")\n",
    "def matrix_gen_next(t,pred_gamma):\n",
    "    output,identity=spl_consraint(spline_list,t,p)\n",
    "    return torch.matmul(identity.type(torch.FloatTensor),torch.from_numpy((np.multiply(output.numpy(),pred_gamma))).type(torch.FloatTensor)).T\n",
    "next_list=[]\n",
    "for i in range(n_times):\n",
    "    next_list.append(matrix_gen_next(time_stamp,gamma[i])[0,4].numpy().item())"
   ]
  },
  {
   "cell_type": "code",
   "execution_count": 94,
   "id": "748e9d81",
   "metadata": {
    "scrolled": true
   },
   "outputs": [
    {
     "data": {
      "image/png": "[encoded data removed]",
      "text/plain": [
       "<Figure size 432x288 with 1 Axes>"
      ]
     },
     "metadata": {
      "needs_background": "light"
     },
     "output_type": "display_data"
    }
   ],
   "source": [
    "import matplotlib.pyplot as plt\n",
    "import pandas as pd\n",
    "from cycler import cycler\n",
    "import numpy as np\n",
    "fig, ax=plt.subplots(1)\n",
    "d=pd.DataFrame({'g':np.append(result_DAGGNN[:,:,4,0].mean(axis=0),mean(result_DAGGNN[:,-1,4,0])),\n",
    "                'a':np.append(result_ANOCA[:,:,0,4].mean(axis=0),mean(result_ANOCA[:,-1,0,4])),\n",
    "                'd':np.append(result_NOTEARS[:,:,4,0].mean(axis=0),mean(result_NOTEARS[:,-1,4,0])),\n",
    "                'e':np.append(mean(result_dynotears[:,0,4,0]),np.append(result_dynotears.mean(axis=0)[:-1,4,0],mean(result_dynotears[:,-2,4,0]))),\n",
    "                'b':np.append(result_new[:,:,4,0].mean(axis=0),mean(next_list)),\n",
    "                'c':[cos(i) for i in range(time_stamp+1)]\n",
    "               })\n",
    "colors=plt.rcParams['axes.prop_cycle'].by_key()['color']\n",
    "ax.set_prop_cycle(cycler('color', colors[:6]))\n",
    "cycle = plt.rcParams['axes.prop_cycle'].by_key()['color']\n",
    "ax.plot(d[:-1],'-',d[-2:],'--')\n",
    "plt.legend([\"DAGGNN\",\"ANOCE\",\"NOTEARS\",\"DYNOTEARS\", \"Proposed_nolag\", \"True coefficient\",])\n",
    "  \n",
    "# function to show the plot\n",
    "plt.xlabel(\"Time stamp\")\n",
    "plt.ylabel(\"Causal strength\")\n",
    "plt.savefig('cos_nolag.pdf')"
   ]
  },
  {
   "cell_type": "code",
   "execution_count": 105,
   "id": "4962f26c",
   "metadata": {},
   "outputs": [
    {
     "data": {
      "image/png": "[encoded data removed]",
      "text/plain": [
       "<Figure size 864x1152 with 24 Axes>"
      ]
     },
     "metadata": {},
     "output_type": "display_data"
    }
   ],
   "source": [
    "select_time=[0,3,6,9]\n",
    "methods=[\"DAGGNN\",\"ANOCE\",\"NOTEARS\",\"DYNOTEARS\",\"Proposed\",\"TRUE\"]\n",
    "figure, axs = plt.subplots(nrows=len(methods), ncols=4, figsize=(12, 16))\n",
    "for i in range(len(select_time)):\n",
    "    actual_time=select_time[i]\n",
    "    #DAGGNN\n",
    "    DAGGNN_graph=result_DAGGNN[:,actual_time,:,:].mean(axis=0).T\n",
    "    DAGGNN_graph[abs(DAGGNN_graph)<0.2]=0\n",
    "    axs[0, i].matshow(DAGGNN_graph, cmap = 'bwr', vmin = -1, vmax = 1)\n",
    "    axs[0, i].set_title(str((select_time[i])),fontdict={'fontsize': 20})\n",
    "    ##ANOCA\n",
    "    ANOCA_graph=result_ANOCA[:,actual_time,:,:].mean(axis=0)\n",
    "    ANOCA_graph[abs(ANOCA_graph)<0.2]=0\n",
    "    axs[1, i].matshow(ANOCA_graph, cmap = 'bwr', vmin = -1, vmax = 1)\n",
    "    axs[1, i].set_title(str((select_time[i])),fontdict={'fontsize': 20})\n",
    "    ##NOTEARS plot\n",
    "    NOTEARS_graph=result_NOTEARS[:,actual_time,:,:].mean(axis=0).T\n",
    "    NOTEARS_graph[abs(NOTEARS_graph)<0.2]=0\n",
    "    axs[2, i].matshow(NOTEARS_graph, cmap = 'bwr', vmin = -1, vmax = 1)\n",
    "    ##DYNOTEARS plot\n",
    "    DYNOTEARS_graph=result_dynotears[:,actual_time,:,:].mean(axis=0).T\n",
    "    DYNOTEARS_graph[abs(DYNOTEARS_graph)<0.2]=0\n",
    "    axs[3, i].matshow(DYNOTEARS_graph, cmap = 'bwr', vmin = -1, vmax = 1)\n",
    "    ##proposed plot-nolag\n",
    "    proposed_graph=result_new[:,actual_time,:,:].mean(axis=0).T\n",
    "    proposed_graph[abs(proposed_graph)<0.2]=0\n",
    "    axs[4, i].matshow(proposed_graph, cmap = 'bwr', vmin = -1, vmax = 1)\n",
    "    ##True plot\n",
    "    true=np.zeros([5, 5])\n",
    "    true[0,4]=cos(actual_time)\n",
    "    true[abs(true)<0.2]=0\n",
    "    axs[5, i].matshow(true, cmap = 'bwr', vmin = -1, vmax = 1)\n",
    "for j in range(len(methods)):\n",
    "    axs[j, 0].set(ylabel=methods[j])\n",
    "    axs[j, 0].yaxis.label.set_size(20)\n",
    "for i in range(len(methods)):\n",
    "    for j in range(4):\n",
    "        axs[i][j].get_xaxis().set_ticks([])\n",
    "        axs[i][j].get_yaxis().set_ticks([])\n",
    "plt.savefig(\"cos_nolag_graph.pdf\")\n",
    "\n",
    "#plt.savefig(\"cos_nolag_graph_edit.pdf\")"
   ]
  },
  {
   "cell_type": "code",
   "execution_count": 108,
   "id": "8332dd60",
   "metadata": {},
   "outputs": [],
   "source": [
    "MSE_list_proposed=[]\n",
    "MSE_list_dynotears=[]\n",
    "MSE_list_ANOCA=[]\n",
    "MSE_list_NOTEARS=[]\n",
    "MSE_list_DAGGNN=[]\n",
    "for j in range(30):\n",
    "    MSE_list_dynotears.append(mean((result_dynotears[j,:,4,0]-[cos(i)for i in range(10)])**2))\n",
    "    MSE_list_proposed.append(mean((result_new[j,:,4,0]-[cos(i)for i in range(10)])**2))\n",
    "    MSE_list_ANOCA.append(mean((result_ANOCA[j,:,0,4]-[cos(i)for i in range(10)])**2))\n",
    "    MSE_list_DAGGNN.append(mean((result_DAGGNN[j,:,4,0]-[cos(i)for i in range(10)])**2))\n",
    "    MSE_list_NOTEARS.append(mean((result_NOTEARS[j,:,4,0]-[cos(i)for i in range(10)])**2))"
   ]
  },
  {
   "cell_type": "code",
   "execution_count": 109,
   "id": "adb6cab7",
   "metadata": {},
   "outputs": [
    {
     "name": "stdout",
     "output_type": "stream",
     "text": [
      "dynotears 0.66 0.003\n",
      "proposed 0.0 0.001\n",
      "ANOCA 0.06 0.023\n",
      "NOTEARS 0.37 0.003\n",
      "DAGGNN 0.65 0.041\n"
     ]
    }
   ],
   "source": [
    "import statistics\n",
    "print(\"dynotears\",round(mean(MSE_list_dynotears),2), round(statistics.pstdev(MSE_list_dynotears)/math.sqrt(30),3))\n",
    "print(\"proposed\",round(mean(MSE_list_proposed),2), round(statistics.pstdev(MSE_list_proposed)/math.sqrt(30),3))\n",
    "print(\"ANOCA\",round(mean(MSE_list_ANOCA),2), round(statistics.pstdev(MSE_list_ANOCA)/math.sqrt(30),3))\n",
    "print(\"NOTEARS\",round(mean(MSE_list_NOTEARS),2), round(statistics.pstdev(MSE_list_NOTEARS)/math.sqrt(30),3))\n",
    "print(\"DAGGNN\",round(mean(MSE_list_DAGGNN),2), round(statistics.pstdev(MSE_list_DAGGNN)/math.sqrt(30),3))"
   ]
  },
  {
   "cell_type": "code",
   "execution_count": 110,
   "id": "0a7ad016",
   "metadata": {},
   "outputs": [
    {
     "data": {
      "text/plain": [
       "FDR    0.0\n",
       "TPR    1.0\n",
       "SHD    0.0\n",
       "dtype: float64"
      ]
     },
     "execution_count": 110,
     "metadata": {},
     "output_type": "execute_result"
    }
   ],
   "source": [
    "##dynotears\n",
    "FDR_total_new=[]\n",
    "TPR_total_new=[]\n",
    "SHD_total_new=[]\n",
    "for replicate in range(30):\n",
    "    FDR_list_piece_new=[]\n",
    "    TPR_list_piece_new=[]\n",
    "    SHD_list_piece_new=[]\n",
    "    base_DAG=np.zeros((5, 5))\n",
    "    for i in range(time_stamp):\n",
    "      estimate=result_dynotears[replicate,i,:,:]\n",
    "      estimate[abs(estimate)<0.2] = 0\n",
    "        \n",
    "      base_estimate=nx.from_numpy_matrix(estimate.T,create_using=nx.DiGraph)\n",
    "      base_DAG[0,4]=cos(i+1)\n",
    "      base_DAG[abs(base_DAG)<0.2]=0\n",
    "      base_graph=nx.from_numpy_matrix(base_DAG,create_using=nx.DiGraph)\n",
    "        \n",
    "      FDR,TPR,SHD=count_accuracy_new(base_graph,base_estimate)\n",
    "      FDR_list_piece_new.append(FDR)\n",
    "      TPR_list_piece_new.append(TPR)\n",
    "      SHD_list_piece_new.append(SHD)\n",
    "    FDR_total_new.append(mean(FDR_list_piece_new))\n",
    "    TPR_total_new.append(mean(TPR_list_piece_new))\n",
    "    SHD_total_new.append(mean(SHD_list_piece_new))\n",
    "df_new = pd.DataFrame(columns=('FDR', 'TPR',\"SHD\"))\n",
    "df_new[\"FDR\"]=FDR_total_new\n",
    "df_new[\"TPR\"]=TPR_total_new\n",
    "df_new[\"SHD\"]=SHD_total_new\n",
    "#df_new[\"time\"]=time_list_new\n",
    "df_new.mean()"
   ]
  },
  {
   "cell_type": "code",
   "execution_count": 111,
   "id": "36e95da9",
   "metadata": {},
   "outputs": [
    {
     "data": {
      "text/plain": [
       "FDR    0.0\n",
       "TPR    0.0\n",
       "SHD    0.0\n",
       "dtype: float64"
      ]
     },
     "execution_count": 111,
     "metadata": {},
     "output_type": "execute_result"
    }
   ],
   "source": [
    "df_new.std()"
   ]
  },
  {
   "cell_type": "code",
   "execution_count": 112,
   "id": "f62ecba0",
   "metadata": {},
   "outputs": [
    {
     "data": {
      "text/plain": [
       "FDR    0.003333\n",
       "TPR    1.000000\n",
       "SHD    0.006667\n",
       "dtype: float64"
      ]
     },
     "execution_count": 112,
     "metadata": {},
     "output_type": "execute_result"
    }
   ],
   "source": [
    "#proposed\n",
    "base_DAG=np.zeros((5, 5))\n",
    "FDR_total_new=[]\n",
    "TPR_total_new=[]\n",
    "SHD_total_new=[]\n",
    "for replicate in range(n_times):\n",
    "    FDR_list_piece_new=[]\n",
    "    TPR_list_piece_new=[]\n",
    "    SHD_list_piece_new=[]\n",
    "    for i in range(time_stamp):\n",
    "      base_DAG[0,4]=cos(i)\n",
    "      base_DAG[abs(base_DAG)<0.2]=0\n",
    "      base_graph=nx.from_numpy_matrix(base_DAG,create_using=nx.DiGraph)\n",
    "      a=result_new[replicate,i,:,:]\n",
    "      a[abs(a)<0.2] = 0\n",
    "      base_estimate=nx.from_numpy_matrix(a.T,create_using=nx.DiGraph)\n",
    "\n",
    "      FDR,TPR,SHD=count_accuracy_new(base_graph,base_estimate)\n",
    "      FDR_list_piece_new.append(FDR)\n",
    "      TPR_list_piece_new.append(TPR)\n",
    "      SHD_list_piece_new.append(SHD)\n",
    "    FDR_total_new.append(mean(FDR_list_piece_new))\n",
    "    TPR_total_new.append(mean(TPR_list_piece_new))\n",
    "    SHD_total_new.append(mean(SHD_list_piece_new))\n",
    "df_new = pd.DataFrame(columns=('FDR', 'TPR',\"SHD\"))\n",
    "df_new[\"FDR\"]=FDR_total_new\n",
    "df_new[\"TPR\"]=TPR_total_new\n",
    "df_new[\"SHD\"]=SHD_total_new\n",
    "#df_new[\"time\"]=time_list_new\n",
    "df_new.mean()"
   ]
  },
  {
   "cell_type": "code",
   "execution_count": 113,
   "id": "a32ac4e4",
   "metadata": {},
   "outputs": [
    {
     "data": {
      "text/plain": [
       "FDR    0.003333\n",
       "TPR    0.000000\n",
       "SHD    0.006667\n",
       "dtype: float64"
      ]
     },
     "execution_count": 113,
     "metadata": {},
     "output_type": "execute_result"
    }
   ],
   "source": [
    "df_new.std()/np.sqrt(30)"
   ]
  },
  {
   "cell_type": "code",
   "execution_count": 114,
   "id": "b637da59",
   "metadata": {},
   "outputs": [
    {
     "data": {
      "text/plain": [
       "FDR    0.830817\n",
       "TPR    0.820000\n",
       "SHD    3.360000\n",
       "dtype: float64"
      ]
     },
     "execution_count": 114,
     "metadata": {},
     "output_type": "execute_result"
    }
   ],
   "source": [
    "#DAGGNN\n",
    "base_DAG=np.zeros((5, 5))\n",
    "FDR_total=[]\n",
    "TPR_total=[]\n",
    "SHD_total=[]\n",
    "for replicate in range(n_times):\n",
    "    FDR_list_piece=[]\n",
    "    TPR_list_piece=[]\n",
    "    SHD_list_piece=[]\n",
    "    for i in range(time_stamp):\n",
    "      base_DAG[0,4]=cos(i)\n",
    "      base_DAG[abs(base_DAG)<0.2]=0\n",
    "      base_graph=nx.from_numpy_matrix(base_DAG,create_using=nx.DiGraph)\n",
    "      a=result_DAGGNN[replicate,i,:,:].T\n",
    "      a[abs(a)<0.2] = 0\n",
    "      base_estimate=nx.from_numpy_matrix(a,create_using=nx.DiGraph)\n",
    "\n",
    "      FDR,TPR,SHD=count_accuracy_new(base_graph,base_estimate)\n",
    "      FDR_list_piece.append(FDR)\n",
    "      TPR_list_piece.append(TPR)\n",
    "      SHD_list_piece.append(SHD)\n",
    "    FDR_total.append(mean(FDR_list_piece))\n",
    "    TPR_total.append(mean(TPR_list_piece))\n",
    "    SHD_total.append(mean(SHD_list_piece))\n",
    "df = pd.DataFrame(columns=('FDR', 'TPR',\"SHD\"))\n",
    "df[\"FDR\"]=FDR_total\n",
    "df[\"TPR\"]=TPR_total\n",
    "df[\"SHD\"]=SHD_total\n",
    "#df_new[\"time\"]=time_list_new\n",
    "df.mean()"
   ]
  },
  {
   "cell_type": "code",
   "execution_count": 115,
   "id": "80be048c",
   "metadata": {},
   "outputs": [
    {
     "data": {
      "text/plain": [
       "FDR    0.010681\n",
       "TPR    0.038177\n",
       "SHD    0.156734\n",
       "dtype: float64"
      ]
     },
     "execution_count": 115,
     "metadata": {},
     "output_type": "execute_result"
    }
   ],
   "source": [
    "df.std()/np.sqrt(30)"
   ]
  },
  {
   "cell_type": "code",
   "execution_count": 116,
   "id": "208cb187",
   "metadata": {},
   "outputs": [
    {
     "data": {
      "text/plain": [
       "FDR    0.540167\n",
       "TPR    1.000000\n",
       "SHD    1.826667\n",
       "dtype: float64"
      ]
     },
     "execution_count": 116,
     "metadata": {},
     "output_type": "execute_result"
    }
   ],
   "source": [
    "#ANOCA\n",
    "base_DAG=np.zeros((5, 5))\n",
    "FDR_total=[]\n",
    "TPR_total=[]\n",
    "SHD_total=[]\n",
    "for replicate in range(n_times):\n",
    "    FDR_list_piece=[]\n",
    "    TPR_list_piece=[]\n",
    "    SHD_list_piece=[]\n",
    "    for i in range(time_stamp):\n",
    "      base_DAG[0,4]=cos(i)\n",
    "      base_DAG[abs(base_DAG)<0.2]=0\n",
    "      base_graph=nx.from_numpy_matrix(base_DAG,create_using=nx.DiGraph)\n",
    "      a=result_ANOCA[replicate,i,:,:]\n",
    "      a[abs(a)<0.2] = 0\n",
    "      base_estimate=nx.from_numpy_matrix(a,create_using=nx.DiGraph)\n",
    "\n",
    "      FDR,TPR,SHD=count_accuracy_new(base_graph,base_estimate)\n",
    "      FDR_list_piece.append(FDR)\n",
    "      TPR_list_piece.append(TPR)\n",
    "      SHD_list_piece.append(SHD)\n",
    "    FDR_total.append(mean(FDR_list_piece))\n",
    "    TPR_total.append(mean(TPR_list_piece))\n",
    "    SHD_total.append(mean(SHD_list_piece))\n",
    "df = pd.DataFrame(columns=('FDR', 'TPR',\"SHD\"))\n",
    "df[\"FDR\"]=FDR_total\n",
    "df[\"TPR\"]=TPR_total\n",
    "df[\"SHD\"]=SHD_total\n",
    "#df_new[\"time\"]=time_list_new\n",
    "df.mean()"
   ]
  },
  {
   "cell_type": "code",
   "execution_count": 117,
   "id": "76c7619a",
   "metadata": {},
   "outputs": [
    {
     "data": {
      "text/plain": [
       "FDR    0.031017\n",
       "TPR    0.000000\n",
       "SHD    0.124839\n",
       "dtype: float64"
      ]
     },
     "execution_count": 117,
     "metadata": {},
     "output_type": "execute_result"
    }
   ],
   "source": [
    "df.std()/np.sqrt(30)"
   ]
  },
  {
   "cell_type": "code",
   "execution_count": 119,
   "id": "2821bf07",
   "metadata": {},
   "outputs": [
    {
     "data": {
      "text/plain": [
       "FDR    0.0\n",
       "TPR    1.0\n",
       "SHD    0.0\n",
       "dtype: float64"
      ]
     },
     "execution_count": 119,
     "metadata": {},
     "output_type": "execute_result"
    }
   ],
   "source": [
    "#NOTEARS\n",
    "base_DAG=np.zeros((5, 5))\n",
    "FDR_total=[]\n",
    "TPR_total=[]\n",
    "SHD_total=[]\n",
    "for replicate in range(n_times):\n",
    "    FDR_list_piece=[]\n",
    "    TPR_list_piece=[]\n",
    "    SHD_list_piece=[]\n",
    "    for i in range(time_stamp):\n",
    "      base_DAG[0,4]=cos(i)\n",
    "      base_DAG[abs(base_DAG)<0.2]=0\n",
    "      base_graph=nx.from_numpy_matrix(base_DAG,create_using=nx.DiGraph)\n",
    "      a=result_NOTEARS[replicate,i,:,:]\n",
    "      a[abs(a)<0.2] = 0\n",
    "      base_estimate=nx.from_numpy_matrix(a.T,create_using=nx.DiGraph)\n",
    "\n",
    "      FDR,TPR,SHD=count_accuracy_new(base_graph,base_estimate)\n",
    "      FDR_list_piece.append(FDR)\n",
    "      TPR_list_piece.append(TPR)\n",
    "      SHD_list_piece.append(SHD)\n",
    "    FDR_total.append(mean(FDR_list_piece))\n",
    "    TPR_total.append(mean(TPR_list_piece))\n",
    "    SHD_total.append(mean(SHD_list_piece))\n",
    "df = pd.DataFrame(columns=('FDR', 'TPR',\"SHD\"))\n",
    "df[\"FDR\"]=FDR_total\n",
    "df[\"TPR\"]=TPR_total\n",
    "df[\"SHD\"]=SHD_total\n",
    "#df_new[\"time\"]=time_list_new\n",
    "df.mean()"
   ]
  },
  {
   "cell_type": "code",
   "execution_count": 120,
   "id": "43dc315f",
   "metadata": {},
   "outputs": [
    {
     "data": {
      "text/plain": [
       "FDR    0.0\n",
       "TPR    0.0\n",
       "SHD    0.0\n",
       "dtype: float64"
      ]
     },
     "execution_count": 120,
     "metadata": {},
     "output_type": "execute_result"
    }
   ],
   "source": [
    "df.std()/np.sqrt(30)"
   ]
  },
  {
   "cell_type": "code",
   "execution_count": null,
   "id": "1cf0bc4a",
   "metadata": {},
   "outputs": [],
   "source": []
  }
 ],
 "metadata": {
  "colab": {
   "name": "Copy of 100_rep_simulation_dim_5-cos_error.ipynb",
   "provenance": [],
   "toc_visible": true
  },
  "kernelspec": {
   "display_name": "Python 3",
   "language": "python",
   "name": "python3"
  },
  "language_info": {
   "codemirror_mode": {
    "name": "ipython",
    "version": 3
   },
   "file_extension": ".py",
   "mimetype": "text/x-python",
   "name": "python",
   "nbconvert_exporter": "python",
   "pygments_lexer": "ipython3",
   "version": "3.7.3"
  }
 },
 "nbformat": 4,
 "nbformat_minor": 5
}
