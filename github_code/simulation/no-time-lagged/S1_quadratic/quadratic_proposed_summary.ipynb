{
 "cells": [
  {
   "cell_type": "code",
   "execution_count": 1,
   "id": "14283b70",
   "metadata": {
    "id": "14283b70",
    "scrolled": true
   },
   "outputs": [
    {
     "name": "stderr",
     "output_type": "stream",
     "text": [
      "D:\\Anaconda\\lib\\site-packages\\numpy\\_distributor_init.py:32: UserWarning: loaded more than 1 DLL from .libs:\n",
      "D:\\Anaconda\\lib\\site-packages\\numpy\\.libs\\libopenblas.TXA6YQSD3GCQQC22GEQ54J2UDCXDXHWN.gfortran-win_amd64.dll\n",
      "D:\\Anaconda\\lib\\site-packages\\numpy\\.libs\\libopenblas.WCDJNK7YVMPZQ2ME2ZZHJJRJ3JIKNDB7.gfortran-win_amd64.dll\n",
      "  stacklevel=1)\n",
      "\n",
      "Bad key \"text.kerning_factor\" on line 4 in\n",
      "D:\\Anaconda\\lib\\site-packages\\matplotlib\\mpl-data\\stylelib\\_classic_test_patch.mplstyle.\n",
      "You probably need to get an updated matplotlibrc file from\n",
      "https://github.com/matplotlib/matplotlib/blob/v3.1.3/matplotlibrc.template\n",
      "or from the matplotlib source distribution\n"
     ]
    }
   ],
   "source": [
    "from scipy import interpolate\n",
    "import matplotlib.pyplot as plt\n",
    "import numpy as np "
   ]
  },
  {
   "cell_type": "code",
   "execution_count": 2,
   "id": "7c5e29b6",
   "metadata": {},
   "outputs": [],
   "source": [
    "import numpy as np\n",
    "import torch\n",
    "from torch.utils.data.dataset import TensorDataset\n",
    "from torch.utils.data import DataLoader\n",
    "import torch.nn.functional as F\n",
    "import torch.nn as nn\n",
    "from torch.autograd import Variable\n",
    "import numpy as np\n",
    "import scipy.linalg as slin\n",
    "import scipy.sparse as sp\n",
    "import networkx as nx\n",
    "import pandas as pd\n",
    "from pandas import ExcelWriter\n",
    "from pandas import ExcelFile\n",
    "import glob\n",
    "import re\n",
    "import math\n",
    "from torch.optim.adam import Adam\n",
    "from utils import *\n",
    "from statistics import mean\n",
    "import random"
   ]
  },
  {
   "cell_type": "markdown",
   "id": "1d89455d",
   "metadata": {
    "id": "1d89455d"
   },
   "source": [
    "## create basis & function demo"
   ]
  },
  {
   "cell_type": "code",
   "execution_count": 3,
   "id": "7da3d05e",
   "metadata": {
    "id": "7da3d05e"
   },
   "outputs": [],
   "source": [
    "np.random.seed(1234567)"
   ]
  },
  {
   "cell_type": "code",
   "execution_count": 4,
   "id": "b115afe7",
   "metadata": {},
   "outputs": [],
   "source": [
    "def simulate_random_dag(d: int,\n",
    "                        degree: float,\n",
    "                        w_range: tuple = (1.0, 1.0)) -> nx.DiGraph:\n",
    "    \"\"\"Simulate random DAG with an expected degree by Erdos-Renyi model.\n",
    "        \n",
    "        Args:\n",
    "        d: number of nodes\n",
    "        degree: expected node degree, in + out\n",
    "        w_range: weight range +/- (low, high)\n",
    "        \n",
    "        Returns:\n",
    "        G: weighted DAG\n",
    "        \"\"\"\n",
    "    prob = float(degree) / (d - 1)\n",
    "    B = np.tril((np.random.rand(d, d) < prob).astype(float), k=-1)\n",
    "    \n",
    "    # random permutation\n",
    "    P = np.random.permutation(np.eye(d, d))  # permutes first axis only\n",
    "    B_perm = P.T.dot(B).dot(P)\n",
    "    U = np.random.uniform(low=w_range[0], high=w_range[1], size=[d, d])\n",
    "    U[np.random.rand(d, d) < 0.5] *= -1\n",
    "    W = (B_perm != 0).astype(float) * U\n",
    "    \n",
    "    # remove all in-edges (from precedent nodes) of the first node as A\n",
    "    W[:, 0] = 0\n",
    "    # remove all out-edges (from descendent nodes) of the last node as Y\n",
    "    W[d-1, :] = 0\n",
    "    # the remained nodes are the mediators M; and reset mediators if it has higher topological order than A or lower order than Y.\n",
    "    ordered_vertices = list(nx.topological_sort(nx.DiGraph(W)))\n",
    "    j = 1\n",
    "    while j < d - 1:\n",
    "        if  ordered_vertices.index(j) < ordered_vertices.index(0):\n",
    "            W[j, 1:(d - 1)] = np.zeros (d - 2)\n",
    "        if  ordered_vertices.index(j) > ordered_vertices.index(d - 1):\n",
    "            W[1:(d - 1), j] = np.zeros (d - 2)\n",
    "        j = j + 1\n",
    "    #print(\"True weighted adjacency matrix B:\\n\", W)\n",
    "    G = nx.DiGraph(W)\n",
    "    calculate_effect(W)\n",
    "    return W"
   ]
  },
  {
   "cell_type": "code",
   "execution_count": 5,
   "id": "a373aa83",
   "metadata": {},
   "outputs": [],
   "source": [
    "import math \n",
    "def cos(x):\n",
    "    return(-10+(5-x)**2)/20"
   ]
  },
  {
   "cell_type": "code",
   "execution_count": 6,
   "id": "2a01f414",
   "metadata": {},
   "outputs": [
    {
     "name": "stdout",
     "output_type": "stream",
     "text": [
      "t: [ 0.   0.   0.   2.5  5.   7.5 10.  10.  10. ]\n",
      "c: [ 0.75   0.125 -0.5   -0.5    0.125  0.75   0.     0.     0.   ]\n",
      "k: 2\n",
      "\n"
     ]
    },
    {
     "data": {
      "image/png": "[encoded data removed]",
      "text/plain": [
       "<Figure size 432x288 with 1 Axes>"
      ]
     },
     "metadata": {
      "needs_background": "light"
     },
     "output_type": "display_data"
    }
   ],
   "source": [
    "degree =2\n",
    "x = np.array(range(0, 11))\n",
    "y = np.array([cos(i) for i in x])\n",
    "z= [cos(i/10) for i in np.array(range(0, 110))]\n",
    "m = 3\n",
    "step = (x[-1] - x[0]) / (m + 1)\n",
    "knots = np.linspace(step, m * step, m)\n",
    "\n",
    "t, c, k = interpolate.splrep(x, y, k=degree, s=0, t=knots, per=0)\n",
    "\n",
    "print('''\\\n",
    "t: {}\n",
    "c: {}\n",
    "k: {}\n",
    "'''.format(t, c, k))\n",
    "N = 100\n",
    "xmin, xmax = x.min(), x.max()\n",
    "xx = np.linspace(xmin, xmax, N)\n",
    "spline = interpolate.BSpline(t, c, k, extrapolate=False)\n",
    "\n",
    "plt.plot(x, y, label='data points')\n",
    "plt.plot(xx, spline(xx), label='BSpline')\n",
    "plt.grid()\n",
    "plt.legend(loc='best')\n",
    "plt.show()"
   ]
  },
  {
   "cell_type": "code",
   "execution_count": 7,
   "id": "7ca93bbd",
   "metadata": {
    "id": "7ca93bbd"
   },
   "outputs": [],
   "source": [
    "from scipy.interpolate import BSpline\n",
    "k = 2\n",
    "t = t\n",
    "c1 = [1,0,0,0,0,0]\n",
    "c2 = [0,1,0,0,0,0]\n",
    "c3 = [0,0,1,0,0,0]\n",
    "c4 = [0,0,0,1,0,0]\n",
    "c5 = [0,0,0,0,1,0]\n",
    "c6 = [0,0,0,0,0,1]\n",
    "spl1 = BSpline(t, c1, k)\n",
    "spl2 = BSpline(t, c2, k)\n",
    "spl3 = BSpline(t, c3, k)\n",
    "spl4 = BSpline(t, c4, k)\n",
    "spl5 = BSpline(t, c5, k)\n",
    "spl6 = BSpline(t, c6, k)"
   ]
  },
  {
   "cell_type": "code",
   "execution_count": 8,
   "id": "8e0f471e",
   "metadata": {
    "colab": {
     "base_uri": "https://localhost:8080/",
     "height": 265
    },
    "id": "8e0f471e",
    "outputId": "502f249b-3175-455f-f521-052e4f099891"
   },
   "outputs": [
    {
     "data": {
      "image/png": "[encoded data removed]",
      "text/plain": [
       "<Figure size 432x288 with 1 Axes>"
      ]
     },
     "metadata": {
      "needs_background": "light"
     },
     "output_type": "display_data"
    }
   ],
   "source": [
    "import matplotlib.pyplot as plt\n",
    "fig, ax = plt.subplots()\n",
    "xx = np.linspace(0, 10, 50)\n",
    "ax.plot(xx, spl1(xx), lw=3, label='Bspline1')\n",
    "ax.plot(xx, spl2(xx), lw=4, alpha=0.7, label='Bspline2')\n",
    "ax.plot(xx, spl3(xx), lw=4, alpha=0.7, label='Bspline3')\n",
    "ax.plot(xx, spl4(xx), lw=4, alpha=0.7, label='Bspline4')\n",
    "ax.plot(xx, spl5(xx), lw=4, alpha=0.7, label='Bspline5')\n",
    "ax.plot(xx, spl6(xx), lw=4, alpha=0.7, label='Bspline6')\n",
    "ax.grid(True)\n",
    "ax.legend(loc='best')\n",
    "plt.show()"
   ]
  },
  {
   "cell_type": "markdown",
   "id": "e1fcf3e1",
   "metadata": {
    "id": "e1fcf3e1"
   },
   "source": [
    "## create data"
   ]
  },
  {
   "cell_type": "code",
   "execution_count": 9,
   "id": "V6gVN_VTxnG4",
   "metadata": {
    "id": "V6gVN_VTxnG4"
   },
   "outputs": [],
   "source": [
    "def data_create(seed,time_stamp):\n",
    "  np.random.seed(seed)\n",
    "  x = np.array(range(0, time_stamp))\n",
    "  #y = np.array([cos(i)+np.random.normal(0, 0.1, 1) for i in x]) #generate coefficient\n",
    "  y = np.array([cos(i)for i in x]) #generate coefficient\n",
    "  base_DAG=np.zeros((5, 5))\n",
    "  base_DAG[0,4]=y[0]##edited to be coeffcient with error\n",
    "  base_graph=nx.from_numpy_matrix(base_DAG,create_using=nx.DiGraph)\n",
    "  X_all = simulate_lsem(base_graph,30, 'Binary', 1,noise_scale=0.1)\n",
    "  for i in range(1,time_stamp):\n",
    "      base_DAG[0,4]=y[i]\n",
    "      base_graph=nx.from_numpy_matrix(base_DAG,create_using=nx.DiGraph)\n",
    "      X = simulate_lsem(base_graph,30, 'Binary', 1,noise_scale=0.1)\n",
    "      X_all=np.append(X_all,X,axis=0)\n",
    "  return X_all"
   ]
  },
  {
   "cell_type": "code",
   "execution_count": 10,
   "id": "f1766d8b",
   "metadata": {
    "id": "f1766d8b"
   },
   "outputs": [],
   "source": [
    "from __future__ import division\n",
    "from __future__ import print_function\n",
    "\n",
    "import time\n",
    "import argparse\n",
    "import pickle\n",
    "import os\n",
    "import random\n",
    "\n",
    "import torch.optim as optim\n",
    "from torch.optim import lr_scheduler\n",
    "import math\n",
    "from utils import *\n",
    "\n",
    "from multiprocessing import Pool\n",
    "import multiprocessing\n",
    "n_cores = multiprocessing.cpu_count()\n",
    "from numpy.random import randn\n",
    "from random import seed as rseed\n",
    "from numpy.random import seed as npseed\n",
    "import time"
   ]
  },
  {
   "cell_type": "markdown",
   "id": "42b6be67",
   "metadata": {
    "id": "42b6be67"
   },
   "source": [
    "# new method"
   ]
  },
  {
   "cell_type": "code",
   "execution_count": 11,
   "id": "42046e3c",
   "metadata": {
    "id": "42046e3c"
   },
   "outputs": [],
   "source": [
    "# ----------- Configurations:\n",
    "time_stamp=10\n",
    "n_timestamp=time_stamp\n",
    "sample__time=30##sample per timepoint\n",
    "n = time_stamp*sample__time # The number of samples of data.\n",
    "n_var = 5 # The number of variables in data.\n",
    "x_dims = 1 # The number of input dimensions: default 1.\n",
    "z_dims = n_var # The number of latent variable dimensions: default the same as variable size.\n",
    "epochs = 200 # Number of epochs to train.\n"
   ]
  },
  {
   "cell_type": "code",
   "execution_count": 12,
   "id": "7871866b",
   "metadata": {
    "colab": {
     "base_uri": "https://localhost:8080/"
    },
    "id": "7871866b",
    "outputId": "95d27f29-9ad4-41bb-a565-112fc3b458d9"
   },
   "outputs": [
    {
     "data": {
      "text/plain": [
       "10"
      ]
     },
     "execution_count": 12,
     "metadata": {},
     "output_type": "execute_result"
    }
   ],
   "source": [
    "n_timestamp"
   ]
  },
  {
   "cell_type": "code",
   "execution_count": 13,
   "id": "2b4a5750",
   "metadata": {
    "colab": {
     "base_uri": "https://localhost:8080/"
    },
    "id": "2b4a5750",
    "outputId": "c445bb2c-a8f6-47b5-b509-6845875ddd96"
   },
   "outputs": [
    {
     "data": {
      "text/plain": [
       "30"
      ]
     },
     "execution_count": 13,
     "metadata": {},
     "output_type": "execute_result"
    }
   ],
   "source": [
    "sample__time"
   ]
  },
  {
   "cell_type": "code",
   "execution_count": 14,
   "id": "93a046a5",
   "metadata": {
    "id": "93a046a5"
   },
   "outputs": [],
   "source": [
    "def create_D(X,spline_list):\n",
    "    D_all=np.zeros((sample__time*time_stamp, n_var*len(spline_list),1))\n",
    "    for j in range(len(spline_list)):\n",
    "        D_column=np.zeros((sample__time*time_stamp, n_var,1))#for each spline\n",
    "        for i in range(0,n_timestamp):\n",
    "            D_column[(sample__time*i):(sample__time*(i+1)),:,:]=X[(sample__time*i):(sample__time*(i+1)),:]*spline_list[j](i)#X_i *f(i), stack horizontally\n",
    "        ##horizontally append\n",
    "        D_all[:,n_var*j:n_var*(j+1),:]=D_column\n",
    "        #print((n_features*j,n_features*(j+1)))\n",
    "    return(D_all)"
   ]
  },
  {
   "cell_type": "code",
   "execution_count": 15,
   "id": "5880a65f",
   "metadata": {
    "id": "5880a65f"
   },
   "outputs": [],
   "source": [
    "#spline_list=[spl_const]\n",
    "spline_list=[spl1,spl2,spl3,spl4,spl5,spl6]"
   ]
  },
  {
   "cell_type": "code",
   "execution_count": 16,
   "id": "9bdb6397",
   "metadata": {
    "id": "9bdb6397"
   },
   "outputs": [],
   "source": [
    "def spl_consraint(spline_list,t,p):\n",
    "    k=len(spline_list)\n",
    "    output=torch.zeros(((p*k), p))\n",
    "    identity=torch.zeros((p, p*k))\n",
    "    for i in range(k):\n",
    "        output[(i*p):(i*p+p),:]=torch.ones((p,p))*spline_list[i](t).item() #gamma times basis\n",
    "        identity[:,(i*p):(i*p+p)]=torch.eye(p) #stacked identity matrix\n",
    "    #final=torch.matmul(identity,output)\n",
    "    return output, identity"
   ]
  },
  {
   "cell_type": "code",
   "execution_count": 17,
   "id": "985dc159",
   "metadata": {
    "id": "985dc159"
   },
   "outputs": [],
   "source": [
    "# ----------- Configurations:\n",
    "n = 30*time_stamp # The number of samples of data.\n",
    "d = 36 # The number of variables in data after spline.  (p+1*k)\n",
    "x_dims = 1 # The number of input dimensions: default 1.\n",
    "z_dims = d # The number of latent variable dimensions: default the same as variable size.\n",
    "epochs = 200 # Number of epochs to train.\n",
    "batch_size = 10 # Number of samples per batch. note: should be divisible by sample size, otherwise throw an error.\n",
    "k_max_iter = int(1e2) # The max iteration number for searching parameters.\n",
    "original_lr = 3e-3  # Initial learning rate.\n",
    "encoder_hidden = d^2 # Number of hidden units, adaptive to dimension of nodes (d^2).\n",
    "decoder_hidden = d^2 # Number of hidden units, adaptive to dimension of nodes (d^2).\n",
    "temp = 0.5 # Temperature for Gumbel softmax.\n",
    "factor = True # Factor graph model.\n",
    "encoder_dropout = 0.0 # Dropout rate (1 - keep probability).\n",
    "decoder_dropout = 0.0 # Dropout rate (1 - keep probability).\n",
    "tau_B = 0. # Coefficient for L-1 norm of matrix B.\n",
    "lambda1 = 0. # Coefficient for DAG constraint h1(B).\n",
    "lambda2 = 0. # Coefficient for identification constraint h2(B).\n",
    "c_B = 1 # Coefficient for absolute value h1(B).\n",
    "d_B = 1 # Coefficient for absolute value h2(B).\n",
    "e_B = 1 # Coefficient for absolute value h3(B)\n",
    "h1_tol = 1e-8 # The tolerance of error of h1(B) to zero.\n",
    "h2_tol = 1e-8 # The tolerance of error of h2(B) to zero.\n",
    "h3_tol = 1e-8 # The tolerance of error of h2(B) to zero.\n",
    "lr_decay = 200 # After how many epochs to decay LR by a factor of gamma. \n",
    "gamma = 1.0 # LR decay factor. "
   ]
  },
  {
   "cell_type": "code",
   "execution_count": 18,
   "id": "4c588ed1",
   "metadata": {
    "id": "4c588ed1"
   },
   "outputs": [],
   "source": [
    "def fun_h2_B_new(B):\n",
    "    '''compute constraint h2(B) value'''\n",
    "    d = B.shape[0]\n",
    "    gamma=B[p:,:p]\n",
    "    h3_B = sum(sum(abs(B[:p, :])))+sum(abs(gamma[:, 0]))+sum(sum(abs(B[p:, p:]))) # uppper 0 and 0 column and every p-1,2p-1 row\n",
    "    for i in range(k):\n",
    "        h3_B=h3_B+sum(abs(gamma[((i+1)*p-1), 1:]))\n",
    "    return h3_B"
   ]
  },
  {
   "cell_type": "code",
   "execution_count": 19,
   "id": "705f6778",
   "metadata": {
    "id": "705f6778"
   },
   "outputs": [],
   "source": [
    "def fun_h1_B(B):\n",
    "    '''compute constraint h1(B) value'''\n",
    "    d = B.shape[0]\n",
    "    expm_B = matrix_poly(B * B, d)\n",
    "    h1_B = torch.trace(expm_B) - d\n",
    "    return h1_B.float()"
   ]
  },
  {
   "cell_type": "code",
   "execution_count": 35,
   "id": "feedc251",
   "metadata": {
    "id": "feedc251"
   },
   "outputs": [],
   "source": [
    "def train_new(epoch, lambda1, c_B, lambda2, d_B, optimizer, old_lr,p,k):\n",
    "        \n",
    "        nll_train = []\n",
    "        kl_train = []\n",
    "        mse_train = []\n",
    "        encoder.train()\n",
    "        decoder.train()\n",
    "        scheduler.step()\n",
    "\n",
    "        # Update optimizer\n",
    "        optimizer, lr = update_optimizer(optimizer, old_lr, c_B, d_B)\n",
    "\n",
    "        for batch_idx, (data, relations) in enumerate(train_loader):\n",
    "\n",
    "            data, relations = Variable(data).double(), Variable(relations).double()\n",
    "            relations = relations.unsqueeze(2) # Reshape data\n",
    "\n",
    "            optimizer.zero_grad()\n",
    "\n",
    "            enc_x, logits, origin_B, adj_A_tilt_encoder, z_gap, z_positive, myA, Wa = encoder(data, rel_rec, rel_send) \n",
    "            edges = logits # Logits is of size: [num_sims, z_dims]\n",
    "\n",
    "            dec_x, output, adj_A_tilt_decoder = decoder(data, edges, d * x_dims, rel_rec, rel_send, origin_B, adj_A_tilt_encoder, Wa)\n",
    "\n",
    "            if torch.sum(output != output):\n",
    "                print('nan error\\n')\n",
    "\n",
    "            target = data\n",
    "            preds = output\n",
    "            variance = 0.\n",
    "            \n",
    "            # Compute constraint functions h1(B) and h2(B)\n",
    "            #h1_B = fun_h1_B(origin_B[p:,p:]) #acyclity on G\n",
    "            h1_B =0\n",
    "            for i in range(n_timestamp):\n",
    "                #aa=torch.matmul(spl_consraint(spline_list,i,p).type(torch.FloatTensor),origin_B[p:,:p].type(torch.FloatTensor))#acyclity on Gamma\n",
    "                #print(fun_h1_B(aa))\n",
    "                output, identity=spl_consraint(spline_list,i,p)\n",
    "                h1_B=h1_B+fun_h1_B(torch.matmul(identity.type(torch.FloatTensor),(output.type(torch.FloatTensor)*origin_B[p:,:p].type(torch.FloatTensor))))#acyclity on Gamma\n",
    "            h2_B = fun_h2_B_new(origin_B) ##handle the zero on gamma and top\n",
    "            # Reconstruction accuracy loss:\n",
    "            loss_nll = nll_gaussian(preds, target, variance)\n",
    "            # KL loss:\n",
    "            loss_kl = kl_gaussian(logits)\n",
    "            # ELBO loss:\n",
    "            loss = loss_kl + loss_nll\n",
    "            # Loss function:\n",
    "            loss += lambda1 * h1_B + 0.5 * c_B * h1_B * h1_B + lambda2 * h2_B + 0.5 * d_B * h2_B * h2_B + 100. * torch.trace(origin_B * origin_B)\n",
    "\n",
    "            loss.backward()\n",
    "            loss = optimizer.step()\n",
    "\n",
    "            myA.data = stau(myA.data, tau_B * lr)\n",
    "\n",
    "            if torch.sum(origin_B != origin_B):\n",
    "                print('nan error\\n')\n",
    "\n",
    "            mse_train.append(F.mse_loss(preds, target).item())\n",
    "            nll_train.append(loss_nll.item())\n",
    "            kl_train.append(loss_kl.item())\n",
    "\n",
    "        return np.mean(np.mean(kl_train) + np.mean(nll_train)), np.mean(nll_train), np.mean(mse_train), origin_B, optimizer, lr\n"
   ]
  },
  {
   "cell_type": "code",
   "execution_count": 36,
   "id": "af937222",
   "metadata": {
    "colab": {
     "base_uri": "https://localhost:8080/"
    },
    "id": "af937222",
    "outputId": "e80610dd-84e9-4b89-dce3-cc71ee027097"
   },
   "outputs": [
    {
     "name": "stdout",
     "output_type": "stream",
     "text": [
      "(300, 35, 1)\n"
     ]
    },
    {
     "name": "stderr",
     "output_type": "stream",
     "text": [
      "D:\\Anaconda\\lib\\site-packages\\torch\\optim\\lr_scheduler.py:100: UserWarning: Detected call of `lr_scheduler.step()` before `optimizer.step()`. In PyTorch 1.1.0 and later, you should call them in the opposite order: `optimizer.step()` before `lr_scheduler.step()`.  Failure to do this will result in PyTorch skipping the first value of the learning rate schedule.See more details at https://pytorch.org/docs/stable/optim.html#how-to-adjust-learning-rate\n",
      "  \"https://pytorch.org/docs/stable/optim.html#how-to-adjust-learning-rate\", UserWarning)\n"
     ]
    },
    {
     "name": "stdout",
     "output_type": "stream",
     "text": [
      "Best ELBO Loss : 0.00024640242195131043\n",
      "Best NLL Loss : 2.3690881880692503e-06\n",
      "Best MSE Loss : 1.353764678896715e-07\n",
      "3053.187737941742\n",
      "0\n",
      "(300, 35, 1)\n",
      "Best ELBO Loss : 0.0004366662050434312\n",
      "Best NLL Loss : 1.2296756933436446e-05\n",
      "Best MSE Loss : 7.026718247677969e-07\n",
      "3363.7839353084564\n",
      "1\n",
      "(300, 35, 1)\n",
      "Best ELBO Loss : 0.00016518728897159659\n",
      "Best NLL Loss : 1.113520822894853e-06\n",
      "Best MSE Loss : 6.362976130827734e-08\n",
      "3100.197236776352\n",
      "2\n",
      "(300, 35, 1)\n",
      "Best ELBO Loss : 0.00025908203950834245\n",
      "Best NLL Loss : 3.9424786949386005e-06\n",
      "Best MSE Loss : 2.2528449685363434e-07\n",
      "3230.489630460739\n",
      "3\n",
      "(300, 35, 1)\n",
      "Best ELBO Loss : 0.00020119764522328376\n",
      "Best NLL Loss : 2.7933671153697896e-07\n",
      "Best MSE Loss : 1.596209780211308e-08\n",
      "3309.018307209015\n",
      "4\n",
      "(300, 35, 1)\n",
      "Best ELBO Loss : 0.0002037619175726752\n",
      "Best NLL Loss : 1.0162863292376876e-06\n",
      "Best MSE Loss : 5.807350452786785e-08\n",
      "3327.5548543930054\n",
      "5\n",
      "(300, 35, 1)\n",
      "Best ELBO Loss : 0.00020029960589217348\n",
      "Best NLL Loss : 1.5277938532029297e-06\n",
      "Best MSE Loss : 8.730250589731028e-08\n",
      "3046.0181946754456\n",
      "6\n",
      "(300, 35, 1)\n",
      "Best ELBO Loss : 0.00024848144174135264\n",
      "Best NLL Loss : 1.9271190501080521e-07\n",
      "Best MSE Loss : 1.1012108857760301e-08\n",
      "3602.7678501605988\n",
      "7\n",
      "(300, 35, 1)\n",
      "Best ELBO Loss : 0.00024397278113299302\n",
      "Best NLL Loss : 4.817030667254933e-07\n",
      "Best MSE Loss : 2.7525889527171047e-08\n",
      "3047.601934194565\n",
      "8\n",
      "(300, 35, 1)\n",
      "Best ELBO Loss : 0.0002264950522050718\n",
      "Best NLL Loss : 9.974785770883094e-07\n",
      "Best MSE Loss : 5.6998775833617677e-08\n",
      "3046.1777601242065\n",
      "9\n",
      "(300, 35, 1)\n",
      "Best ELBO Loss : 0.0002466607548431229\n",
      "Best NLL Loss : 5.268898571223792e-06\n",
      "Best MSE Loss : 3.010799183556453e-07\n",
      "3047.107091188431\n",
      "10\n",
      "(300, 35, 1)\n",
      "Best ELBO Loss : 0.00020014707968352366\n",
      "Best NLL Loss : 9.727881729625182e-07\n",
      "Best MSE Loss : 5.558789559785818e-08\n",
      "2997.1240577697754\n",
      "11\n",
      "(300, 35, 1)\n",
      "Best ELBO Loss : 0.0002926214413320059\n",
      "Best NLL Loss : 3.6477045169057214e-06\n",
      "Best MSE Loss : 2.0844025810889833e-07\n",
      "3280.7275607585907\n",
      "12\n",
      "(300, 35, 1)\n",
      "Best ELBO Loss : 0.00039191301148121515\n",
      "Best NLL Loss : 1.4569399351045741e-05\n",
      "Best MSE Loss : 8.325371057740422e-07\n",
      "2975.0911560058594\n",
      "13\n",
      "(300, 35, 1)\n",
      "Best ELBO Loss : 0.00018234455120301116\n",
      "Best NLL Loss : 7.532360578021845e-08\n",
      "Best MSE Loss : 4.304206044583912e-09\n",
      "3531.907621383667\n",
      "14\n",
      "(300, 35, 1)\n",
      "Best ELBO Loss : 0.0001790282542421146\n",
      "Best NLL Loss : 1.7284135726936392e-06\n",
      "Best MSE Loss : 9.876648986820791e-08\n",
      "2967.8687946796417\n",
      "15\n",
      "(300, 35, 1)\n",
      "Best ELBO Loss : 0.00019341070764771973\n",
      "Best NLL Loss : 6.132227387200043e-07\n",
      "Best MSE Loss : 3.504129935542881e-08\n",
      "3529.8530044555664\n",
      "16\n",
      "(300, 35, 1)\n",
      "Best ELBO Loss : 0.00021030337325334537\n",
      "Best NLL Loss : 1.0232470769556104e-06\n",
      "Best MSE Loss : 5.847126154032061e-08\n",
      "3008.5138614177704\n",
      "17\n",
      "(300, 35, 1)\n",
      "Best ELBO Loss : 0.00030161328102498296\n",
      "Best NLL Loss : 3.3404984970708517e-06\n",
      "Best MSE Loss : 1.9088562840404872e-07\n",
      "3274.948308467865\n",
      "18\n",
      "(300, 35, 1)\n",
      "Best ELBO Loss : 0.00023432043820967522\n",
      "Best NLL Loss : 2.367327209555159e-07\n",
      "Best MSE Loss : 1.352758405460091e-08\n",
      "2996.5053849220276\n",
      "19\n",
      "(300, 35, 1)\n",
      "Best ELBO Loss : 0.00025504212539702705\n",
      "Best NLL Loss : 2.5802852014854376e-06\n",
      "Best MSE Loss : 1.474448686563107e-07\n",
      "3007.185476541519\n",
      "20\n",
      "(300, 35, 1)\n",
      "Best ELBO Loss : 0.0002974092232359456\n",
      "Best NLL Loss : 8.118131285741307e-06\n",
      "Best MSE Loss : 4.6389321632807463e-07\n",
      "3267.758038520813\n",
      "21\n",
      "(300, 35, 1)\n",
      "Best ELBO Loss : 0.00021168697132877964\n",
      "Best NLL Loss : 9.401647798415893e-07\n",
      "Best MSE Loss : 5.372370170523368e-08\n",
      "3026.077952861786\n",
      "22\n",
      "(300, 35, 1)\n",
      "Best ELBO Loss : 0.00017495702258228733\n",
      "Best NLL Loss : 1.1638921907452592e-06\n",
      "Best MSE Loss : 6.650812518544338e-08\n",
      "2995.3668928146362\n",
      "23\n",
      "(300, 35, 1)\n",
      "Best ELBO Loss : 0.00020175003925749943\n",
      "Best NLL Loss : 8.987305196259468e-07\n",
      "Best MSE Loss : 5.1356029692911265e-08\n",
      "4466.460441350937\n",
      "24\n",
      "(300, 35, 1)\n",
      "Best ELBO Loss : 0.0002842742942639199\n",
      "Best NLL Loss : 5.801579116906885e-06\n",
      "Best MSE Loss : 3.3151880668039335e-07\n",
      "3333.2047629356384\n",
      "25\n",
      "(300, 35, 1)\n",
      "Best ELBO Loss : 0.0002512279570978705\n",
      "Best NLL Loss : 4.9969761517206e-06\n",
      "Best MSE Loss : 2.855414943840341e-07\n",
      "3621.5943970680237\n",
      "26\n",
      "(300, 35, 1)\n",
      "Best ELBO Loss : 0.0002631589541139371\n",
      "Best NLL Loss : 3.2780677389108718e-06\n",
      "Best MSE Loss : 1.8731815650919292e-07\n",
      "3280.281398296356\n",
      "27\n",
      "(300, 35, 1)\n",
      "Best ELBO Loss : 0.0002818112671734895\n",
      "Best NLL Loss : 3.2145058298986383e-07\n",
      "Best MSE Loss : 1.8368604742277938e-08\n",
      "4879.250386953354\n",
      "28\n",
      "(300, 35, 1)\n",
      "Best ELBO Loss : 0.00019333133535655032\n",
      "Best NLL Loss : 2.7779825115885564e-08\n",
      "Best MSE Loss : 1.587418578050604e-09\n",
      "3701.4348080158234\n",
      "29\n"
     ]
    }
   ],
   "source": [
    "n_var=5\n",
    "n_times=30 #no. of replicates\n",
    "time_stamp=10 #no. of timestamp\n",
    "np.random.seed(1234567) #Random seed\n",
    "seed_list=np.random.randint(1, 1000000, size=n_times)\n",
    "average_coef_list_new=np.zeros((n_times,time_stamp,n_var,n_var))\n",
    "lambda_list=np.zeros((n_times,30,n_var))\n",
    "FDR_total_new=[]\n",
    "TPR_total_new=[]\n",
    "SHD_total_new=[]\n",
    "time_list_new=[]\n",
    "for replicate in range(n_times):\n",
    "  seed=seed_list[replicate]\n",
    "  X_all=data_create(seed,time_stamp) #create data\n",
    "  D=create_D(X_all,spline_list)\n",
    "  data_all=np.append(X_all,D, axis=1)\n",
    "  print(np.shape(data_all))\n",
    "  average_list=np.zeros((time_stamp,n_var, n_var))\n",
    "  \n",
    "  ####estimate at each time_stamp####\n",
    "  timestart_new=time.time()\n",
    "    # ----------- Configurations:\n",
    "  # ----------- Configurations:\n",
    "  n = 30*time_stamp # The number of samples of data.\n",
    "  d = 36 # The number of variables in data after basis.\n",
    "  x_dims = 1 # The number of input dimensions: default 1.\n",
    "  z_dims = d # The number of latent variable dimensions: default the same as variable size.\n",
    "  epochs = 200 # Number of epochs to train.\n",
    "  batch_size = 10 # Number of samples per batch. note: should be divisible by sample size, otherwise throw an error.\n",
    "  k_max_iter = int(1e2) # The max iteration number for searching parameters.\n",
    "  original_lr = 3e-3  # Initial learning rate.\n",
    "  encoder_hidden = d^2 # Number of hidden units, adaptive to dimension of nodes (d^2).\n",
    "  decoder_hidden = d^2 # Number of hidden units, adaptive to dimension of nodes (d^2).\n",
    "  temp = 0.5 # Temperature for Gumbel softmax.\n",
    "  factor = True # Factor graph model.\n",
    "  encoder_dropout = 0.0 # Dropout rate (1 - keep probability).\n",
    "  decoder_dropout = 0.0 # Dropout rate (1 - keep probability).\n",
    "  tau_B = 0. # Coefficient for L-1 norm of matrix B.\n",
    "  lambda1 = 0. # Coefficient for DAG constraint h1(B).\n",
    "  lambda2 = 0. # Coefficient for identification constraint h2(B).\n",
    "  c_B = 1 # Coefficient for absolute value h1(B).\n",
    "  d_B = 1 # Coefficient for absolute value h2(B).\n",
    "  e_B = 1 # Coefficient for absolute value h3(B)\n",
    "  h1_tol = 1e-8 # The tolerance of error of h1(B) to zero.\n",
    "  h2_tol = 1e-8 # The tolerance of error of h2(B) to zero.\n",
    "  h3_tol = 1e-8 # The tolerance of error of h2(B) to zero.\n",
    "  lr_decay = 200 # After how many epochs to decay LR by a factor of gamma. \n",
    "  gamma = 1.0 # LR decay factor.  \n",
    "    ######################\n",
    "  p=5\n",
    "  k=6 #no.of basis\n",
    "  np.random.seed(seed)\n",
    "  random.seed(seed)\n",
    "  torch.manual_seed(seed)\n",
    "  feat_train = torch.FloatTensor(data_all)\n",
    "  feat_valid = torch.FloatTensor(data_all)\n",
    "  feat_test = torch.FloatTensor(data_all)\n",
    "\n",
    "  # Reconstruct itself\n",
    "  train_data = TensorDataset(feat_train, feat_train)\n",
    "  valid_data = TensorDataset(feat_valid, feat_train)\n",
    "  test_data = TensorDataset(feat_test, feat_train)\n",
    "\n",
    "  train_loader = DataLoader(train_data, batch_size = batch_size)\n",
    "  valid_loader = DataLoader(valid_data, batch_size = batch_size)\n",
    "  test_loader = DataLoader(test_data, batch_size = batch_size)\n",
    "\n",
    "  # ----------- Load modules:\n",
    "  d1=p+p*k\n",
    "  off_diag = np.ones([d1, d1]) - np.eye(d1) # Generate off-diagonal interaction graph\n",
    "  rel_rec = np.array(encode_onehot(np.where(off_diag)[1]), dtype = np.float64)\n",
    "  rel_send = np.array(encode_onehot(np.where(off_diag)[0]), dtype = np.float64)\n",
    "  rel_rec = torch.DoubleTensor(rel_rec)\n",
    "  rel_send = torch.DoubleTensor(rel_send)\n",
    "  adj_A = np.zeros((d1, d1)) # Add adjacency matrix\n",
    "\n",
    "  encoder = MLPEncoder(d1 * x_dims, x_dims, encoder_hidden,\n",
    "                          int(z_dims), adj_A,\n",
    "                          batch_size = batch_size,\n",
    "                          do_prob = encoder_dropout, factor = factor).double()\n",
    "  decoder = MLPDecoder(d1 * x_dims,\n",
    "                          z_dims, x_dims, encoder,\n",
    "                          data_variable_size = d1,\n",
    "                          batch_size = batch_size,\n",
    "                          n_hid=decoder_hidden,\n",
    "                          do_prob=decoder_dropout).double()\n",
    "\n",
    "  # ----------- Set up optimizer:\n",
    "  optimizer = optim.Adam(list(encoder.parameters()) + list(decoder.parameters()), lr = original_lr)\n",
    "  scheduler = lr_scheduler.StepLR(optimizer, step_size = lr_decay,\n",
    "                                  gamma = gamma)\n",
    "\n",
    "  rel_rec = Variable(rel_rec)\n",
    "  rel_send = Variable(rel_send)\n",
    "\n",
    "  # ----------- Main:\n",
    "  best_ELBO_loss = np.inf\n",
    "  best_NLL_loss = np.inf\n",
    "  best_MSE_loss = np.inf\n",
    "  h1_B_new = 1 #torch.tensor(1.)\n",
    "  h2_B_new = 1\n",
    "  h1_B_old = np.inf\n",
    "  h2_B_old = np.inf\n",
    "  lr = original_lr\n",
    "\n",
    "  try:\n",
    "      for step_k in range(k_max_iter):\n",
    "          while c_B * d_B < 1e+20:\n",
    "              for epoch in range(epochs):\n",
    "                  old_lr = lr \n",
    "                  ELBO_loss, NLL_loss, MSE_loss, origin_B, optimizer, lr = train_new(epoch, lambda1, c_B, lambda2, d_B, optimizer, old_lr,p=p,k=k)\n",
    "\n",
    "                  if ELBO_loss < best_ELBO_loss:\n",
    "                      best_ELBO_loss = ELBO_loss\n",
    "\n",
    "                  if NLL_loss < best_NLL_loss:\n",
    "                      best_NLL_loss = NLL_loss\n",
    "\n",
    "                  if MSE_loss < best_MSE_loss:\n",
    "                      best_MSE_loss = MSE_loss\n",
    "\n",
    "              if ELBO_loss > 2 * best_ELBO_loss:\n",
    "                  break\n",
    "\n",
    "              # Update parameters\n",
    "              B_new = origin_B.data.clone()\n",
    "              #h1_B = fun_h1_B(B_new[p:,p:]) #acyclity on G\n",
    "              h1_B=0 \n",
    "              for i in range(n_timestamp):\n",
    "                  #aa=h1_B+fun_h1_B(torch.matmul(spl_consraint(spline_list,i,p),B_new[p:,:p]))#acyclity on Gamma\n",
    "                  #print(aa)\n",
    "                  output, identity=spl_consraint(spline_list,i,p)\n",
    "                  h1_B=h1_B+fun_h1_B(torch.matmul(identity.type(torch.FloatTensor),(output.type(torch.FloatTensor)*B_new[p:,:p].type(torch.FloatTensor))))\n",
    "                  #h1_B=h1_B+fun_h1_B(torch.matmul(spl_consraint(spline_list,i,p).type(torch.FloatTensor),B_new[p:,:p].type(torch.FloatTensor)))#acyclity on Gamma\n",
    "              h2_B = fun_h2_B_new(B_new) ##handle the zero on gamma and top\n",
    "              #B_trans_new=torch.transpose(B_new, 0, 1)\n",
    "              #h1_B = fun_h1_B(B_trans_new[p:,p:]) #acyclity on G\n",
    "              #h1_B = fun_h1_B(B_new[p:,:p]) #edited acyclity on G\n",
    "              #h2_B = fun_h3_B(B_new) ##handle the zero\n",
    "\n",
    "              if h1_B_new > 0.25 * h1_B_old and h2_B_new > 0.25 * h2_B_old:\n",
    "                  c_B *= 10\n",
    "                  d_B *= 10\n",
    "              elif h1_B_new > 0.25 * h1_B_old and h2_B_new < 0.25 * h2_B_old:\n",
    "                  c_B *= 10\n",
    "              elif h1_B_new < 0.25 * h1_B_old and h2_B_new > 0.25 * h2_B_old:\n",
    "                  d_B *= 10\n",
    "              else:\n",
    "                  break\n",
    "\n",
    "          # Update parameters    \n",
    "          h1_B_old = h1_B_new\n",
    "          h2_B_old = h2_B_new\n",
    "          lambda1 += c_B * h1_B_new\n",
    "          lambda2 += d_B * h2_B_new\n",
    "\n",
    "          if h1_B_new <= h1_tol and h2_B_new <= h2_tol:\n",
    "              break\n",
    "\n",
    "  except KeyboardInterrupt:\n",
    "      print('KeyboardInterrupt')\n",
    "\n",
    "  predB = np.matrix(origin_B.data.clone().numpy())\n",
    "  print('Best ELBO Loss :', best_ELBO_loss)\n",
    "  print('Best NLL Loss :', best_NLL_loss)\n",
    "  print('Best MSE Loss :', best_MSE_loss)\n",
    "  #calculate_effect(predB)\n",
    "  pred_gamma=predB[p:,:(p)]\n",
    "  lambda_list[replicate,::]=pred_gamma\n",
    "  np.save(\"quadra_10_30_gamma\",lambda_list)\n",
    "  def matrix_gen(t):\n",
    "    output,identity=spl_consraint(spline_list,t,p)\n",
    "    return torch.matmul(identity.type(torch.FloatTensor),torch.from_numpy((np.multiply(output.numpy(),pred_gamma))).type(torch.FloatTensor)).T\n",
    "  #estimated_coefficient=[matrix_gen(i)[4,0].item() for i in range(time_stamp)]\n",
    "  #average_coef_list_new[replicate,:]=estimated_coefficient\n",
    "\n",
    "  ## FDR, TPR, SHD for  new method\n",
    "  FDR_list_piece_new=[]\n",
    "  TPR_list_piece_new=[]\n",
    "  SHD_list_piece_new=[]\n",
    "  base_DAG=np.zeros((5, 5))\n",
    "  for i in range(time_stamp):\n",
    "      base_DAG[0,4]=cos(i)\n",
    "      base_DAG[abs(base_DAG)<0.3]=0\n",
    "      base_graph=nx.from_numpy_matrix(base_DAG,create_using=nx.DiGraph)\n",
    "      average_coef_list_new[replicate,i,:,:]=matrix_gen(i).numpy()\n",
    "      a=matrix_gen(i).numpy()\n",
    "      a[abs(a)<0.3] = 0\n",
    "      base_estimate=nx.from_numpy_matrix(a.T,create_using=nx.DiGraph)\n",
    "    \n",
    "      FDR,TPR,SHD=count_accuracy(base_graph,base_estimate)\n",
    "      FDR_list_piece_new.append(FDR)\n",
    "      TPR_list_piece_new.append(TPR)\n",
    "      SHD_list_piece_new.append(SHD)\n",
    "  np.save(\"quadra_10_30\",average_coef_list_new)\n",
    "  FDR_total_new.append(mean(FDR_list_piece_new))\n",
    "  TPR_total_new.append(mean(TPR_list_piece_new))\n",
    "  SHD_total_new.append(mean(SHD_list_piece_new))\n",
    "  timeend_new=time.time()\n",
    "  time_list_new.append(timeend_new-timestart_new)\n",
    "  print(timeend_new-timestart_new)\n",
    "  ###write csv\n",
    "  df_new = pd.DataFrame(columns=('FDR', 'TPR',\"SHD\",\"time\"))\n",
    "  df_new[\"FDR\"]=FDR_total_new\n",
    "  df_new[\"TPR\"]=TPR_total_new\n",
    "  df_new[\"SHD\"]=SHD_total_new\n",
    "  df_new[\"time\"]=time_list_new\n",
    "  #df_new.to_csv(\"cos_new_5.csv\")\n",
    "  print(replicate)\n"
   ]
  },
  {
   "cell_type": "code",
   "execution_count": 29,
   "id": "c1145242",
   "metadata": {},
   "outputs": [],
   "source": [
    "result_new=np.load(\"result/quadra_10_30.npy\") #0 axis is the number of replicates\n",
    "result_ANOCA=np.load(\"result/quadra_10_30_ANOCA.npy\")\n",
    "result_NOTEARS=np.load(\"result/quadra_10_30_NOTEARS.npy\")\n",
    "result_dynotears=np.load(\"result/dynotears_quadratic_w_new.npy\")\n",
    "result_proposed=np.load(\"result/quadra_gamma_constraint_nolag.npy\")\n",
    "result_DAGGNN=np.load(\"result/quadra_10_30_DAGGNN.npy\")"
   ]
  },
  {
   "cell_type": "code",
   "execution_count": 30,
   "id": "39b2ea3a",
   "metadata": {},
   "outputs": [],
   "source": [
    "n_times=30\n",
    "p=5\n",
    "time_stamp=10\n",
    "gamma=np.load(\"result/quadra_10_30_gamma.npy\")\n",
    "def matrix_gen_next(t,pred_gamma):\n",
    "    output,identity=spl_consraint(spline_list,t,p)\n",
    "    return torch.matmul(identity.type(torch.FloatTensor),torch.from_numpy((np.multiply(output.numpy(),pred_gamma))).type(torch.FloatTensor)).T\n",
    "next_list=[]\n",
    "for i in range(n_times):\n",
    "    next_list.append(matrix_gen_next(time_stamp,gamma[i])[4,0].numpy().item())"
   ]
  },
  {
   "cell_type": "code",
   "execution_count": 31,
   "id": "4528e49c",
   "metadata": {},
   "outputs": [
    {
     "data": {
      "image/png": "[encoded data removed]",
      "text/plain": [
       "<Figure size 432x288 with 1 Axes>"
      ]
     },
     "metadata": {
      "needs_background": "light"
     },
     "output_type": "display_data"
    }
   ],
   "source": [
    "import matplotlib.pyplot as plt\n",
    "import pandas as pd\n",
    "from cycler import cycler\n",
    "import numpy as np\n",
    "fig, ax=plt.subplots(1)\n",
    "d=pd.DataFrame({'g':np.append(result_DAGGNN[:,:,4,0].mean(axis=0),mean(result_DAGGNN[:,-1,4,0])),\n",
    "                'a':np.append(result_ANOCA[:,:,0,4].mean(axis=0),mean(result_ANOCA[:,-1,0,4])),\n",
    "                'd':np.append(result_NOTEARS[:,:,4,0].mean(axis=0),mean(result_NOTEARS[:,-1,4,0])),\n",
    "                'e':np.append(mean(result_dynotears[:,0,4,0]),np.append(result_dynotears.mean(axis=0)[:-1,4,0],mean(result_dynotears[:,-2,4,0]))),\n",
    "                'b':np.append(result_new[:,:,4,0].mean(axis=0),mean(next_list)),\n",
    "                'c':[cos(i) for i in range(time_stamp+1)]\n",
    "               })\n",
    "colors=plt.rcParams['axes.prop_cycle'].by_key()['color']\n",
    "ax.set_prop_cycle(cycler('color', colors[:6]))\n",
    "cycle = plt.rcParams['axes.prop_cycle'].by_key()['color']\n",
    "ax.plot(d[:-1],'-',d[-2:],'--')\n",
    "plt.legend([\"DAGGNN\",\"ANOCE\",\"NOTEARS\",\"DYNOTEARS\", \"Proposed_nolag\", \"True coefficient\",])\n",
    "  \n",
    "# function to show the plot\n",
    "plt.xlabel(\"Time stamp\")\n",
    "plt.ylabel(\"Causal strength\")\n",
    "plt.savefig('quadra_nolag.pdf')"
   ]
  },
  {
   "cell_type": "code",
   "execution_count": 50,
   "id": "e2a100c7",
   "metadata": {},
   "outputs": [
    {
     "data": {
      "image/png": "[encoded data removed]",
      "text/plain": [
       "<Figure size 864x1152 with 24 Axes>"
      ]
     },
     "metadata": {},
     "output_type": "display_data"
    }
   ],
   "source": [
    "select_time=[0,3,6,9]\n",
    "methods=[\"DAGGNN\",\"ANOCE\",\"NOTEARS\",\"DYNOTEARS\",\"Proposed\",\"TRUE\"]\n",
    "figure, axs = plt.subplots(nrows=len(methods), ncols=4, figsize=(12, 16))\n",
    "for i in range(len(select_time)):\n",
    "    actual_time=select_time[i]\n",
    "    #DAGGNN\n",
    "    DAGGNN_graph=result_DAGGNN[:,actual_time,:,:].mean(axis=0).T\n",
    "    DAGGNN_graph[abs(DAGGNN_graph)<0.2]=0\n",
    "    axs[0, i].matshow(DAGGNN_graph, cmap = 'bwr', vmin = -1, vmax = 1)\n",
    "    axs[0, i].set_title(str((select_time[i])),fontdict={'fontsize': 20})\n",
    "    ##ANOCA\n",
    "    ANOCA_graph=result_ANOCA[:,actual_time,:,:].mean(axis=0)\n",
    "    ANOCA_graph[abs(ANOCA_graph)<0.2]=0\n",
    "    axs[1, i].matshow(ANOCA_graph, cmap = 'bwr', vmin = -1, vmax = 1)\n",
    "    axs[1, i].set_title(str((select_time[i])),fontdict={'fontsize': 20})\n",
    "    ##NOTEARS plot\n",
    "    NOTEARS_graph=result_NOTEARS[:,actual_time,:,:].mean(axis=0).T\n",
    "    NOTEARS_graph[abs(NOTEARS_graph)<0.2]=0\n",
    "    axs[2, i].matshow(NOTEARS_graph, cmap = 'bwr', vmin = -1, vmax = 1)\n",
    "    ##DYNOTEARS plot\n",
    "    DYNOTEARS_graph=result_dynotears[:,actual_time,:,:].mean(axis=0).T\n",
    "    DYNOTEARS_graph[abs(DYNOTEARS_graph)<0.2]=0\n",
    "    axs[3, i].matshow(DYNOTEARS_graph, cmap = 'bwr', vmin = -1, vmax = 1)\n",
    "    ##proposed plot-nolag\n",
    "    proposed_graph=result_new[:,actual_time,:,:].mean(axis=0).T\n",
    "    proposed_graph[abs(proposed_graph)<0.2]=0\n",
    "    axs[4, i].matshow(proposed_graph, cmap = 'bwr', vmin = -1, vmax = 1)\n",
    "    ##True plot\n",
    "    true=np.zeros([5, 5])\n",
    "    true[0,4]=cos(actual_time)\n",
    "    true[abs(true)<0.2]=0\n",
    "    axs[5, i].matshow(true, cmap = 'bwr', vmin = -1, vmax = 1)\n",
    "for j in range(len(methods)):\n",
    "    axs[j, 0].set(ylabel=methods[j])\n",
    "    axs[j, 0].yaxis.label.set_size(20)\n",
    "for i in range(len(methods)):\n",
    "    for j in range(4):\n",
    "        axs[i][j].get_xaxis().set_ticks([])\n",
    "        axs[i][j].get_yaxis().set_ticks([])\n",
    "plt.savefig(\"quadra_nolag_graph.pdf\")\n",
    "\n",
    "#plt.savefig(\"cos_nolag_graph_edit.pdf\")"
   ]
  },
  {
   "cell_type": "code",
   "execution_count": 55,
   "id": "88d5eccf",
   "metadata": {},
   "outputs": [],
   "source": [
    "MSE_list_proposed=[]\n",
    "MSE_list_dynotears=[]\n",
    "MSE_list_ANOCA=[]\n",
    "MSE_list_NOTEARS=[]\n",
    "MSE_list_DAGGNN=[]\n",
    "for j in range(30):\n",
    "    MSE_list_dynotears.append(mean((result_dynotears[j,:,4,0]-[cos(i)for i in range(10)])**2))\n",
    "    MSE_list_proposed.append(mean((result_new[j,:,4,0]-[cos(i)for i in range(10)])**2))\n",
    "    MSE_list_ANOCA.append(mean((result_ANOCA[j,:,0,4]-[cos(i)for i in range(10)])**2))\n",
    "    MSE_list_DAGGNN.append(mean((result_DAGGNN[j,:,4,0]-[cos(i)for i in range(10)])**2))\n",
    "    MSE_list_NOTEARS.append(mean((result_NOTEARS[j,:,4,0]-[cos(i)for i in range(10)])**2))"
   ]
  },
  {
   "cell_type": "code",
   "execution_count": 56,
   "id": "ad64a7c8",
   "metadata": {},
   "outputs": [
    {
     "name": "stdout",
     "output_type": "stream",
     "text": [
      "dynotears 0.54 0.005\n",
      "proposed 0.01 0.006\n",
      "ANOCA 0.02 0.006\n",
      "NOTEARS 1.51 0.012\n",
      "DAGGNN 2.69 0.262\n"
     ]
    }
   ],
   "source": [
    "import statistics\n",
    "print(\"dynotears\",round(mean(MSE_list_dynotears),2), round(statistics.pstdev(MSE_list_dynotears)/math.sqrt(30),3))\n",
    "print(\"proposed\",round(mean(MSE_list_proposed),2), round(statistics.pstdev(MSE_list_proposed)/math.sqrt(30),3))\n",
    "print(\"ANOCA\",round(mean(MSE_list_ANOCA),2), round(statistics.pstdev(MSE_list_ANOCA)/math.sqrt(30),3))\n",
    "print(\"NOTEARS\",round(mean(MSE_list_NOTEARS),2), round(statistics.pstdev(MSE_list_NOTEARS)/math.sqrt(30),3))\n",
    "print(\"DAGGNN\",round(mean(MSE_list_DAGGNN),2), round(statistics.pstdev(MSE_list_DAGGNN)/math.sqrt(30),3))"
   ]
  },
  {
   "cell_type": "code",
   "execution_count": 41,
   "id": "58559f4b",
   "metadata": {},
   "outputs": [
    {
     "data": {
      "text/plain": [
       "FDR    0.503333\n",
       "TPR    0.513333\n",
       "SHD    0.696667\n",
       "dtype: float64"
      ]
     },
     "execution_count": 41,
     "metadata": {},
     "output_type": "execute_result"
    }
   ],
   "source": [
    "##dynotears\n",
    "FDR_total_new=[]\n",
    "TPR_total_new=[]\n",
    "SHD_total_new=[]\n",
    "for replicate in range(30):\n",
    "    FDR_list_piece_new=[]\n",
    "    TPR_list_piece_new=[]\n",
    "    SHD_list_piece_new=[]\n",
    "    base_DAG=np.zeros((5, 5))\n",
    "    for i in range(time_stamp):\n",
    "      estimate=result_dynotears[replicate,i,:,:]\n",
    "      estimate[abs(estimate)<0.2] = 0\n",
    "        \n",
    "      base_estimate=nx.from_numpy_matrix(estimate.T,create_using=nx.DiGraph)\n",
    "      base_DAG[0,4]=cos(i+1)\n",
    "      base_DAG[abs(base_DAG)<0.2]=0\n",
    "      base_graph=nx.from_numpy_matrix(base_DAG,create_using=nx.DiGraph)\n",
    "        \n",
    "      FDR,TPR,SHD=count_accuracy_new(base_graph,base_estimate)\n",
    "      FDR_list_piece_new.append(FDR)\n",
    "      TPR_list_piece_new.append(TPR)\n",
    "      SHD_list_piece_new.append(SHD)\n",
    "    FDR_total_new.append(mean(FDR_list_piece_new))\n",
    "    TPR_total_new.append(mean(TPR_list_piece_new))\n",
    "    SHD_total_new.append(mean(SHD_list_piece_new))\n",
    "df_new = pd.DataFrame(columns=('FDR', 'TPR',\"SHD\"))\n",
    "df_new[\"FDR\"]=FDR_total_new\n",
    "df_new[\"TPR\"]=TPR_total_new\n",
    "df_new[\"SHD\"]=SHD_total_new\n",
    "#df_new[\"time\"]=time_list_new\n",
    "df_new.mean()"
   ]
  },
  {
   "cell_type": "code",
   "execution_count": 42,
   "id": "0d8edd11",
   "metadata": {},
   "outputs": [
    {
     "data": {
      "text/plain": [
       "FDR    0.041384\n",
       "TPR    0.043417\n",
       "SHD    0.055605\n",
       "dtype: float64"
      ]
     },
     "execution_count": 42,
     "metadata": {},
     "output_type": "execute_result"
    }
   ],
   "source": [
    "df_new.std()"
   ]
  },
  {
   "cell_type": "code",
   "execution_count": 43,
   "id": "9739c110",
   "metadata": {},
   "outputs": [
    {
     "data": {
      "text/plain": [
       "FDR    0.000000\n",
       "TPR    0.943333\n",
       "SHD    0.056667\n",
       "dtype: float64"
      ]
     },
     "execution_count": 43,
     "metadata": {},
     "output_type": "execute_result"
    }
   ],
   "source": [
    "#proposed\n",
    "base_DAG=np.zeros((5, 5))\n",
    "FDR_total_new=[]\n",
    "TPR_total_new=[]\n",
    "SHD_total_new=[]\n",
    "for replicate in range(30):\n",
    "    FDR_list_piece_new=[]\n",
    "    TPR_list_piece_new=[]\n",
    "    SHD_list_piece_new=[]\n",
    "    for i in range(time_stamp):\n",
    "      base_DAG[0,4]=cos(i)\n",
    "      base_DAG[abs(base_DAG)<0.2]=0\n",
    "      base_graph=nx.from_numpy_matrix(base_DAG,create_using=nx.DiGraph)\n",
    "      a=result_new[replicate,i,:,:]\n",
    "      a[abs(a)<0.2] = 0\n",
    "      base_estimate=nx.from_numpy_matrix(a.T,create_using=nx.DiGraph)\n",
    "\n",
    "      FDR,TPR,SHD=count_accuracy_new(base_graph,base_estimate)\n",
    "      FDR_list_piece_new.append(FDR)\n",
    "      TPR_list_piece_new.append(TPR)\n",
    "      SHD_list_piece_new.append(SHD)\n",
    "    FDR_total_new.append(mean(FDR_list_piece_new))\n",
    "    TPR_total_new.append(mean(TPR_list_piece_new))\n",
    "    SHD_total_new.append(mean(SHD_list_piece_new))\n",
    "df_new = pd.DataFrame(columns=('FDR', 'TPR',\"SHD\"))\n",
    "df_new[\"FDR\"]=FDR_total_new\n",
    "df_new[\"TPR\"]=TPR_total_new\n",
    "df_new[\"SHD\"]=SHD_total_new\n",
    "#df_new[\"time\"]=time_list_new\n",
    "df_new.mean()"
   ]
  },
  {
   "cell_type": "code",
   "execution_count": 44,
   "id": "dfa39c2c",
   "metadata": {},
   "outputs": [
    {
     "data": {
      "text/plain": [
       "FDR    0.000000\n",
       "TPR    0.031689\n",
       "SHD    0.031689\n",
       "dtype: float64"
      ]
     },
     "execution_count": 44,
     "metadata": {},
     "output_type": "execute_result"
    }
   ],
   "source": [
    "df_new.std()/np.sqrt(30)"
   ]
  },
  {
   "cell_type": "code",
   "execution_count": 45,
   "id": "55327aab",
   "metadata": {},
   "outputs": [
    {
     "data": {
      "text/plain": [
       "FDR    0.0\n",
       "TPR    1.0\n",
       "SHD    0.0\n",
       "dtype: float64"
      ]
     },
     "execution_count": 45,
     "metadata": {},
     "output_type": "execute_result"
    }
   ],
   "source": [
    "#NOTEARS\n",
    "base_DAG=np.zeros((5, 5))\n",
    "FDR_total_new=[]\n",
    "TPR_total_new=[]\n",
    "SHD_total_new=[]\n",
    "for replicate in range(30):\n",
    "    FDR_list_piece_new=[]\n",
    "    TPR_list_piece_new=[]\n",
    "    SHD_list_piece_new=[]\n",
    "    for i in range(time_stamp):\n",
    "      base_DAG[0,4]=cos(i)\n",
    "      base_DAG[abs(base_DAG)<0.2]=0\n",
    "      base_graph=nx.from_numpy_matrix(base_DAG,create_using=nx.DiGraph)\n",
    "      a=result_NOTEARS[replicate,i,:,:]\n",
    "      a[abs(a)<0.2] = 0\n",
    "      base_estimate=nx.from_numpy_matrix(a.T,create_using=nx.DiGraph)\n",
    "\n",
    "      FDR,TPR,SHD=count_accuracy_new(base_graph,base_estimate)\n",
    "      FDR_list_piece_new.append(FDR)\n",
    "      TPR_list_piece_new.append(TPR)\n",
    "      SHD_list_piece_new.append(SHD)\n",
    "    FDR_total_new.append(mean(FDR_list_piece_new))\n",
    "    TPR_total_new.append(mean(TPR_list_piece_new))\n",
    "    SHD_total_new.append(mean(SHD_list_piece_new))\n",
    "df_new = pd.DataFrame(columns=('FDR', 'TPR',\"SHD\"))\n",
    "df_new[\"FDR\"]=FDR_total_new\n",
    "df_new[\"TPR\"]=TPR_total_new\n",
    "df_new[\"SHD\"]=SHD_total_new\n",
    "#df_new[\"time\"]=time_list_new\n",
    "df_new.mean()"
   ]
  },
  {
   "cell_type": "code",
   "execution_count": 46,
   "id": "9b95c121",
   "metadata": {},
   "outputs": [
    {
     "data": {
      "text/plain": [
       "FDR    0.0\n",
       "TPR    0.0\n",
       "SHD    0.0\n",
       "dtype: float64"
      ]
     },
     "execution_count": 46,
     "metadata": {},
     "output_type": "execute_result"
    }
   ],
   "source": [
    "df_new.std()/np.sqrt(30)"
   ]
  },
  {
   "cell_type": "code",
   "execution_count": 47,
   "id": "2fff7dfc",
   "metadata": {},
   "outputs": [
    {
     "data": {
      "text/plain": [
       "FDR    0.798373\n",
       "TPR    0.903333\n",
       "SHD    3.376667\n",
       "dtype: float64"
      ]
     },
     "execution_count": 47,
     "metadata": {},
     "output_type": "execute_result"
    }
   ],
   "source": [
    "#DAGGNN\n",
    "base_DAG=np.zeros((5, 5))\n",
    "FDR_total=[]\n",
    "TPR_total=[]\n",
    "SHD_total=[]\n",
    "for replicate in range(n_times):\n",
    "    FDR_list_piece=[]\n",
    "    TPR_list_piece=[]\n",
    "    SHD_list_piece=[]\n",
    "    for i in range(time_stamp):\n",
    "      base_DAG[0,4]=cos(i)\n",
    "      base_DAG[abs(base_DAG)<0.2]=0\n",
    "      base_graph=nx.from_numpy_matrix(base_DAG,create_using=nx.DiGraph)\n",
    "      a=result_DAGGNN[replicate,i,:,:].T\n",
    "      a[abs(a)<0.2] = 0\n",
    "      base_estimate=nx.from_numpy_matrix(a,create_using=nx.DiGraph)\n",
    "\n",
    "      FDR,TPR,SHD=count_accuracy_new(base_graph,base_estimate)\n",
    "      FDR_list_piece.append(FDR)\n",
    "      TPR_list_piece.append(TPR)\n",
    "      SHD_list_piece.append(SHD)\n",
    "    FDR_total.append(mean(FDR_list_piece))\n",
    "    TPR_total.append(mean(TPR_list_piece))\n",
    "    SHD_total.append(mean(SHD_list_piece))\n",
    "df = pd.DataFrame(columns=('FDR', 'TPR',\"SHD\"))\n",
    "df[\"FDR\"]=FDR_total\n",
    "df[\"TPR\"]=TPR_total\n",
    "df[\"SHD\"]=SHD_total\n",
    "#df_new[\"time\"]=time_list_new\n",
    "df.mean()"
   ]
  },
  {
   "cell_type": "code",
   "execution_count": 48,
   "id": "5b407385",
   "metadata": {},
   "outputs": [
    {
     "data": {
      "text/plain": [
       "FDR    0.014431\n",
       "TPR    0.027744\n",
       "SHD    0.149381\n",
       "dtype: float64"
      ]
     },
     "execution_count": 48,
     "metadata": {},
     "output_type": "execute_result"
    }
   ],
   "source": [
    "df.std()/np.sqrt(30)"
   ]
  }
 ],
 "metadata": {
  "colab": {
   "name": "Copy of 100_rep_simulation_dim_5-cos_error.ipynb",
   "provenance": [],
   "toc_visible": true
  },
  "kernelspec": {
   "display_name": "Python 3",
   "language": "python",
   "name": "python3"
  },
  "language_info": {
   "codemirror_mode": {
    "name": "ipython",
    "version": 3
   },
   "file_extension": ".py",
   "mimetype": "text/x-python",
   "name": "python",
   "nbconvert_exporter": "python",
   "pygments_lexer": "ipython3",
   "version": "3.7.3"
  }
 },
 "nbformat": 4,
 "nbformat_minor": 5
}
